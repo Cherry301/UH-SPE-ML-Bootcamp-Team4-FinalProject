{
  "nbformat": 4,
  "nbformat_minor": 0,
  "metadata": {
    "colab": {
      "name": "Final Project",
      "provenance": [],
      "collapsed_sections": [],
      "include_colab_link": true
    },
    "kernelspec": {
      "name": "python3",
      "display_name": "Python 3"
    }
  },
  "cells": [
    {
      "cell_type": "markdown",
      "metadata": {
        "id": "view-in-github",
        "colab_type": "text"
      },
      "source": [
        "<a href=\"https://colab.research.google.com/github/Cherry301/UH-SPE-ML-Bootcamp-Team4-FinalProject/blob/master/Final_Project.ipynb\" target=\"_parent\"><img src=\"https://colab.research.google.com/assets/colab-badge.svg\" alt=\"Open In Colab\"/></a>"
      ]
    },
    {
      "cell_type": "code",
      "metadata": {
        "id": "vyUmD8XYERyL",
        "colab_type": "code",
        "colab": {
          "base_uri": "https://localhost:8080/",
          "height": 104
        },
        "outputId": "07cf7154-a3bb-49ea-d1ad-c143e63e3b6c"
      },
      "source": [
        "#The bread and butter:\n",
        "import pandas as pd\n",
        "import numpy as np\n",
        "#Visualizations:\n",
        "import matplotlib.pyplot as plt\n",
        "import seaborn as sb\n",
        "\n",
        "#Statistics:\n",
        "import scipy.stats as stats\n",
        "\n",
        "#ML:\n",
        "from sklearn.model_selection import train_test_split, StratifiedKFold, cross_val_score, cross_val_predict\n",
        "from sklearn.linear_model import LogisticRegression\n",
        "from sklearn.ensemble import RandomForestClassifier, AdaBoostClassifier\n",
        "from sklearn import metrics\n",
        "from sklearn.metrics import classification_report, roc_auc_score, precision_score,recall_score\n",
        "from yellowbrick.classifier import ROCAUC\n",
        "from sklearn.tree import DecisionTreeClassifier\n",
        "import keras\n",
        "from keras.models import Sequential\n",
        "from keras.layers import Dense\n",
        "from keras.utils import to_categorical"
      ],
      "execution_count": null,
      "outputs": [
        {
          "output_type": "stream",
          "text": [
            "/usr/local/lib/python3.6/dist-packages/statsmodels/tools/_testing.py:19: FutureWarning: pandas.util.testing is deprecated. Use the functions in the public API at pandas.testing instead.\n",
            "  import pandas.util.testing as tm\n",
            "/usr/local/lib/python3.6/dist-packages/sklearn/utils/deprecation.py:144: FutureWarning: The sklearn.metrics.classification module is  deprecated in version 0.22 and will be removed in version 0.24. The corresponding classes / functions should instead be imported from sklearn.metrics. Anything that cannot be imported from sklearn.metrics is now part of the private API.\n",
            "  warnings.warn(message, FutureWarning)\n"
          ],
          "name": "stderr"
        }
      ]
    },
    {
      "cell_type": "markdown",
      "metadata": {
        "id": "Uu_j9Wjtv82M",
        "colab_type": "text"
      },
      "source": [
        "## Data loading, manipulation and exploratory analysis"
      ]
    },
    {
      "cell_type": "code",
      "metadata": {
        "id": "XS5AIOIYEcar",
        "colab_type": "code",
        "colab": {}
      },
      "source": [
        "path19 = 'https://raw.githubusercontent.com/flikrama/UH-SPE-ML-Bootcamp-Team4-Project2/master/Jan_2019_ontime.csv'\n",
        "df19 = pd.read_csv(path19)"
      ],
      "execution_count": null,
      "outputs": []
    },
    {
      "cell_type": "code",
      "metadata": {
        "id": "gpnf53B2qAQA",
        "colab_type": "code",
        "colab": {}
      },
      "source": [
        "df19 = df19.drop('Unnamed: 21', axis = 1)"
      ],
      "execution_count": null,
      "outputs": []
    },
    {
      "cell_type": "code",
      "metadata": {
        "id": "0e_YVMknqAQE",
        "colab_type": "code",
        "colab": {
          "base_uri": "https://localhost:8080/",
          "height": 588
        },
        "outputId": "e029c83b-01ab-489c-eca0-3da2de5f164a"
      },
      "source": [
        "print(df19.shape)\n",
        "print(df19.describe())\n",
        "print(df19.dtypes)"
      ],
      "execution_count": null,
      "outputs": [
        {
          "output_type": "stream",
          "text": [
            "(583985, 21)\n",
            "        DAY_OF_MONTH    DAY_OF_WEEK  ...       DIVERTED       DISTANCE\n",
            "count  583985.000000  583985.000000  ...  583985.000000  583985.000000\n",
            "mean       15.960088       3.835626  ...       0.002219     797.742767\n",
            "std         8.987942       1.921899  ...       0.047056     589.999261\n",
            "min         1.000000       1.000000  ...       0.000000      31.000000\n",
            "25%         8.000000       2.000000  ...       0.000000     363.000000\n",
            "50%        16.000000       4.000000  ...       0.000000     640.000000\n",
            "75%        24.000000       5.000000  ...       0.000000    1037.000000\n",
            "max        31.000000       7.000000  ...       1.000000    4983.000000\n",
            "\n",
            "[8 rows x 15 columns]\n",
            "DAY_OF_MONTH               int64\n",
            "DAY_OF_WEEK                int64\n",
            "OP_UNIQUE_CARRIER         object\n",
            "OP_CARRIER_AIRLINE_ID      int64\n",
            "OP_CARRIER                object\n",
            "TAIL_NUM                  object\n",
            "OP_CARRIER_FL_NUM          int64\n",
            "ORIGIN_AIRPORT_ID          int64\n",
            "ORIGIN_AIRPORT_SEQ_ID      int64\n",
            "ORIGIN                    object\n",
            "DEST_AIRPORT_ID            int64\n",
            "DEST_AIRPORT_SEQ_ID        int64\n",
            "DEST                      object\n",
            "DEP_TIME                 float64\n",
            "DEP_DEL15                float64\n",
            "DEP_TIME_BLK              object\n",
            "ARR_TIME                 float64\n",
            "ARR_DEL15                float64\n",
            "CANCELLED                float64\n",
            "DIVERTED                 float64\n",
            "DISTANCE                 float64\n",
            "dtype: object\n"
          ],
          "name": "stdout"
        }
      ]
    },
    {
      "cell_type": "code",
      "metadata": {
        "id": "r98E3Seqv7U0",
        "colab_type": "code",
        "colab": {
          "base_uri": "https://localhost:8080/",
          "height": 386
        },
        "outputId": "31ef7c89-5d20-4003-8c80-6366e3caf5c0"
      },
      "source": [
        "# Number of NaN values in df for each column\n",
        "df19.isna().sum()"
      ],
      "execution_count": null,
      "outputs": [
        {
          "output_type": "execute_result",
          "data": {
            "text/plain": [
              "DAY_OF_MONTH                 0\n",
              "DAY_OF_WEEK                  0\n",
              "OP_UNIQUE_CARRIER            0\n",
              "OP_CARRIER_AIRLINE_ID        0\n",
              "OP_CARRIER                   0\n",
              "TAIL_NUM                  2543\n",
              "OP_CARRIER_FL_NUM            0\n",
              "ORIGIN_AIRPORT_ID            0\n",
              "ORIGIN_AIRPORT_SEQ_ID        0\n",
              "ORIGIN                       0\n",
              "DEST_AIRPORT_ID              0\n",
              "DEST_AIRPORT_SEQ_ID          0\n",
              "DEST                         0\n",
              "DEP_TIME                 16352\n",
              "DEP_DEL15                16355\n",
              "DEP_TIME_BLK                 0\n",
              "ARR_TIME                 17061\n",
              "ARR_DEL15                18022\n",
              "CANCELLED                    0\n",
              "DIVERTED                     0\n",
              "DISTANCE                     0\n",
              "dtype: int64"
            ]
          },
          "metadata": {
            "tags": []
          },
          "execution_count": 5
        }
      ]
    },
    {
      "cell_type": "code",
      "metadata": {
        "id": "MkzCru4CI-xL",
        "colab_type": "code",
        "colab": {
          "base_uri": "https://localhost:8080/",
          "height": 134
        },
        "outputId": "39c625aa-d3ba-49c2-80fb-d27e3ee61bb2"
      },
      "source": [
        "df19.columns"
      ],
      "execution_count": null,
      "outputs": [
        {
          "output_type": "execute_result",
          "data": {
            "text/plain": [
              "Index(['DAY_OF_MONTH', 'DAY_OF_WEEK', 'OP_UNIQUE_CARRIER',\n",
              "       'OP_CARRIER_AIRLINE_ID', 'OP_CARRIER', 'TAIL_NUM', 'OP_CARRIER_FL_NUM',\n",
              "       'ORIGIN_AIRPORT_ID', 'ORIGIN_AIRPORT_SEQ_ID', 'ORIGIN',\n",
              "       'DEST_AIRPORT_ID', 'DEST_AIRPORT_SEQ_ID', 'DEST', 'DEP_TIME',\n",
              "       'DEP_DEL15', 'DEP_TIME_BLK', 'ARR_TIME', 'ARR_DEL15', 'CANCELLED',\n",
              "       'DIVERTED', 'DISTANCE'],\n",
              "      dtype='object')"
            ]
          },
          "metadata": {
            "tags": []
          },
          "execution_count": 6
        }
      ]
    },
    {
      "cell_type": "code",
      "metadata": {
        "id": "3d57JfEYfMY6",
        "colab_type": "code",
        "colab": {
          "base_uri": "https://localhost:8080/",
          "height": 34
        },
        "outputId": "259939c0-f287-4a75-95e5-f29a3a3eb126"
      },
      "source": [
        "# dropped NaN values in df\n",
        "df19 = df19.dropna()\n",
        "print(df19.shape)"
      ],
      "execution_count": null,
      "outputs": [
        {
          "output_type": "stream",
          "text": [
            "(565963, 21)\n"
          ],
          "name": "stdout"
        }
      ]
    },
    {
      "cell_type": "code",
      "metadata": {
        "id": "L8ed4xywxXaC",
        "colab_type": "code",
        "colab": {
          "base_uri": "https://localhost:8080/",
          "height": 386
        },
        "outputId": "9777dc09-b29e-4f60-dacc-c319154be8c5"
      },
      "source": [
        "# verifying if NaN values were dropped\n",
        "df19.isna().sum()"
      ],
      "execution_count": null,
      "outputs": [
        {
          "output_type": "execute_result",
          "data": {
            "text/plain": [
              "DAY_OF_MONTH             0\n",
              "DAY_OF_WEEK              0\n",
              "OP_UNIQUE_CARRIER        0\n",
              "OP_CARRIER_AIRLINE_ID    0\n",
              "OP_CARRIER               0\n",
              "TAIL_NUM                 0\n",
              "OP_CARRIER_FL_NUM        0\n",
              "ORIGIN_AIRPORT_ID        0\n",
              "ORIGIN_AIRPORT_SEQ_ID    0\n",
              "ORIGIN                   0\n",
              "DEST_AIRPORT_ID          0\n",
              "DEST_AIRPORT_SEQ_ID      0\n",
              "DEST                     0\n",
              "DEP_TIME                 0\n",
              "DEP_DEL15                0\n",
              "DEP_TIME_BLK             0\n",
              "ARR_TIME                 0\n",
              "ARR_DEL15                0\n",
              "CANCELLED                0\n",
              "DIVERTED                 0\n",
              "DISTANCE                 0\n",
              "dtype: int64"
            ]
          },
          "metadata": {
            "tags": []
          },
          "execution_count": 8
        }
      ]
    },
    {
      "cell_type": "code",
      "metadata": {
        "id": "f3vjnhpew8Mc",
        "colab_type": "code",
        "colab": {
          "base_uri": "https://localhost:8080/",
          "height": 386
        },
        "outputId": "9354c972-96aa-4f55-c550-09e83991898a"
      },
      "source": [
        "# Number of Unique elements in df\n",
        "df19.nunique()"
      ],
      "execution_count": null,
      "outputs": [
        {
          "output_type": "execute_result",
          "data": {
            "text/plain": [
              "DAY_OF_MONTH               31\n",
              "DAY_OF_WEEK                 7\n",
              "OP_UNIQUE_CARRIER          17\n",
              "OP_CARRIER_AIRLINE_ID      17\n",
              "OP_CARRIER                 17\n",
              "TAIL_NUM                 5441\n",
              "OP_CARRIER_FL_NUM        6833\n",
              "ORIGIN_AIRPORT_ID         346\n",
              "ORIGIN_AIRPORT_SEQ_ID     346\n",
              "ORIGIN                    346\n",
              "DEST_AIRPORT_ID           346\n",
              "DEST_AIRPORT_SEQ_ID       346\n",
              "DEST                      346\n",
              "DEP_TIME                 1438\n",
              "DEP_DEL15                   2\n",
              "DEP_TIME_BLK               19\n",
              "ARR_TIME                 1440\n",
              "ARR_DEL15                   2\n",
              "CANCELLED                   1\n",
              "DIVERTED                    1\n",
              "DISTANCE                 1451\n",
              "dtype: int64"
            ]
          },
          "metadata": {
            "tags": []
          },
          "execution_count": 9
        }
      ]
    },
    {
      "cell_type": "code",
      "metadata": {
        "id": "v1RudMxLxfTi",
        "colab_type": "code",
        "colab": {}
      },
      "source": [
        "#Remove columns which won't be used\n",
        "df_red = df19.drop([ 'OP_CARRIER_AIRLINE_ID', \n",
        "                    'OP_CARRIER', 'TAIL_NUM', \n",
        "                    'OP_CARRIER_FL_NUM',\n",
        "                    'ORIGIN_AIRPORT_ID',\n",
        "                    'ORIGIN_AIRPORT_SEQ_ID', \n",
        "                    'DEST_AIRPORT_ID', \n",
        "                    'DEST_AIRPORT_SEQ_ID', \n",
        "                    'DEP_TIME',\n",
        "                    'CANCELLED','ARR_TIME',\n",
        "                    'DIVERTED'], axis = 1)"
      ],
      "execution_count": null,
      "outputs": []
    },
    {
      "cell_type": "code",
      "metadata": {
        "id": "lgXDQm6exe-F",
        "colab_type": "code",
        "colab": {
          "base_uri": "https://localhost:8080/",
          "height": 195
        },
        "outputId": "a46b432e-1b5e-4cd1-aba7-a449ae329b97"
      },
      "source": [
        "df_red.head()"
      ],
      "execution_count": null,
      "outputs": [
        {
          "output_type": "execute_result",
          "data": {
            "text/html": [
              "<div>\n",
              "<style scoped>\n",
              "    .dataframe tbody tr th:only-of-type {\n",
              "        vertical-align: middle;\n",
              "    }\n",
              "\n",
              "    .dataframe tbody tr th {\n",
              "        vertical-align: top;\n",
              "    }\n",
              "\n",
              "    .dataframe thead th {\n",
              "        text-align: right;\n",
              "    }\n",
              "</style>\n",
              "<table border=\"1\" class=\"dataframe\">\n",
              "  <thead>\n",
              "    <tr style=\"text-align: right;\">\n",
              "      <th></th>\n",
              "      <th>DAY_OF_MONTH</th>\n",
              "      <th>DAY_OF_WEEK</th>\n",
              "      <th>OP_UNIQUE_CARRIER</th>\n",
              "      <th>ORIGIN</th>\n",
              "      <th>DEST</th>\n",
              "      <th>DEP_DEL15</th>\n",
              "      <th>DEP_TIME_BLK</th>\n",
              "      <th>ARR_DEL15</th>\n",
              "      <th>DISTANCE</th>\n",
              "    </tr>\n",
              "  </thead>\n",
              "  <tbody>\n",
              "    <tr>\n",
              "      <th>0</th>\n",
              "      <td>1</td>\n",
              "      <td>2</td>\n",
              "      <td>9E</td>\n",
              "      <td>GNV</td>\n",
              "      <td>ATL</td>\n",
              "      <td>0.0</td>\n",
              "      <td>0600-0659</td>\n",
              "      <td>0.0</td>\n",
              "      <td>300.0</td>\n",
              "    </tr>\n",
              "    <tr>\n",
              "      <th>1</th>\n",
              "      <td>1</td>\n",
              "      <td>2</td>\n",
              "      <td>9E</td>\n",
              "      <td>MSP</td>\n",
              "      <td>CVG</td>\n",
              "      <td>0.0</td>\n",
              "      <td>1400-1459</td>\n",
              "      <td>0.0</td>\n",
              "      <td>596.0</td>\n",
              "    </tr>\n",
              "    <tr>\n",
              "      <th>2</th>\n",
              "      <td>1</td>\n",
              "      <td>2</td>\n",
              "      <td>9E</td>\n",
              "      <td>DTW</td>\n",
              "      <td>CVG</td>\n",
              "      <td>0.0</td>\n",
              "      <td>1200-1259</td>\n",
              "      <td>0.0</td>\n",
              "      <td>229.0</td>\n",
              "    </tr>\n",
              "    <tr>\n",
              "      <th>3</th>\n",
              "      <td>1</td>\n",
              "      <td>2</td>\n",
              "      <td>9E</td>\n",
              "      <td>TLH</td>\n",
              "      <td>ATL</td>\n",
              "      <td>0.0</td>\n",
              "      <td>1500-1559</td>\n",
              "      <td>0.0</td>\n",
              "      <td>223.0</td>\n",
              "    </tr>\n",
              "    <tr>\n",
              "      <th>4</th>\n",
              "      <td>1</td>\n",
              "      <td>2</td>\n",
              "      <td>9E</td>\n",
              "      <td>ATL</td>\n",
              "      <td>FSM</td>\n",
              "      <td>0.0</td>\n",
              "      <td>1900-1959</td>\n",
              "      <td>0.0</td>\n",
              "      <td>579.0</td>\n",
              "    </tr>\n",
              "  </tbody>\n",
              "</table>\n",
              "</div>"
            ],
            "text/plain": [
              "   DAY_OF_MONTH  DAY_OF_WEEK  ... ARR_DEL15 DISTANCE\n",
              "0             1            2  ...       0.0    300.0\n",
              "1             1            2  ...       0.0    596.0\n",
              "2             1            2  ...       0.0    229.0\n",
              "3             1            2  ...       0.0    223.0\n",
              "4             1            2  ...       0.0    579.0\n",
              "\n",
              "[5 rows x 9 columns]"
            ]
          },
          "metadata": {
            "tags": []
          },
          "execution_count": 11
        }
      ]
    },
    {
      "cell_type": "code",
      "metadata": {
        "id": "qwUlYLQbdc2b",
        "colab_type": "code",
        "colab": {}
      },
      "source": [
        "#Since OP_UNIQUE_CARRIER, ORIGIN, DEST, DEP_TIME_BLK, DEP_DEL15 are categorical variables, transforming them to category object is necessary.\n",
        "df_red1 = df_red\n",
        "cat_col = ['OP_UNIQUE_CARRIER', 'ORIGIN', 'DEST', 'DEP_TIME_BLK', 'DEP_DEL15']\n",
        "for col in cat_col:\n",
        "  df_red1[col] = df_red1[col].astype('category') "
      ],
      "execution_count": null,
      "outputs": []
    },
    {
      "cell_type": "code",
      "metadata": {
        "id": "mZvsUd-UdspH",
        "colab_type": "code",
        "colab": {}
      },
      "source": [
        "#use pandas cut function to create categorical buckets for distance of flight to reduce computational resources required\n",
        "df_red1['DISTANCE_cat'] = pd.qcut(df_red1['DISTANCE'], q=4)"
      ],
      "execution_count": null,
      "outputs": []
    },
    {
      "cell_type": "code",
      "metadata": {
        "id": "rcAUJ5xQfU2c",
        "colab_type": "code",
        "colab": {
          "base_uri": "https://localhost:8080/",
          "height": 343
        },
        "outputId": "b796af01-32d6-46c4-d0b5-38885f86424e"
      },
      "source": [
        "#Checking the dataframe after preprocessing (Sanity check to check if the variables are categorized or not.)\n",
        "pd.DataFrame({'missing': df_red.isna().mean()*100,\n",
        "              'type':df_red.dtypes})"
      ],
      "execution_count": null,
      "outputs": [
        {
          "output_type": "execute_result",
          "data": {
            "text/html": [
              "<div>\n",
              "<style scoped>\n",
              "    .dataframe tbody tr th:only-of-type {\n",
              "        vertical-align: middle;\n",
              "    }\n",
              "\n",
              "    .dataframe tbody tr th {\n",
              "        vertical-align: top;\n",
              "    }\n",
              "\n",
              "    .dataframe thead th {\n",
              "        text-align: right;\n",
              "    }\n",
              "</style>\n",
              "<table border=\"1\" class=\"dataframe\">\n",
              "  <thead>\n",
              "    <tr style=\"text-align: right;\">\n",
              "      <th></th>\n",
              "      <th>missing</th>\n",
              "      <th>type</th>\n",
              "    </tr>\n",
              "  </thead>\n",
              "  <tbody>\n",
              "    <tr>\n",
              "      <th>DAY_OF_MONTH</th>\n",
              "      <td>0.0</td>\n",
              "      <td>int64</td>\n",
              "    </tr>\n",
              "    <tr>\n",
              "      <th>DAY_OF_WEEK</th>\n",
              "      <td>0.0</td>\n",
              "      <td>int64</td>\n",
              "    </tr>\n",
              "    <tr>\n",
              "      <th>OP_UNIQUE_CARRIER</th>\n",
              "      <td>0.0</td>\n",
              "      <td>category</td>\n",
              "    </tr>\n",
              "    <tr>\n",
              "      <th>ORIGIN</th>\n",
              "      <td>0.0</td>\n",
              "      <td>category</td>\n",
              "    </tr>\n",
              "    <tr>\n",
              "      <th>DEST</th>\n",
              "      <td>0.0</td>\n",
              "      <td>category</td>\n",
              "    </tr>\n",
              "    <tr>\n",
              "      <th>DEP_DEL15</th>\n",
              "      <td>0.0</td>\n",
              "      <td>category</td>\n",
              "    </tr>\n",
              "    <tr>\n",
              "      <th>DEP_TIME_BLK</th>\n",
              "      <td>0.0</td>\n",
              "      <td>category</td>\n",
              "    </tr>\n",
              "    <tr>\n",
              "      <th>ARR_DEL15</th>\n",
              "      <td>0.0</td>\n",
              "      <td>float64</td>\n",
              "    </tr>\n",
              "    <tr>\n",
              "      <th>DISTANCE</th>\n",
              "      <td>0.0</td>\n",
              "      <td>float64</td>\n",
              "    </tr>\n",
              "    <tr>\n",
              "      <th>DISTANCE_cat</th>\n",
              "      <td>0.0</td>\n",
              "      <td>category</td>\n",
              "    </tr>\n",
              "  </tbody>\n",
              "</table>\n",
              "</div>"
            ],
            "text/plain": [
              "                   missing      type\n",
              "DAY_OF_MONTH           0.0     int64\n",
              "DAY_OF_WEEK            0.0     int64\n",
              "OP_UNIQUE_CARRIER      0.0  category\n",
              "ORIGIN                 0.0  category\n",
              "DEST                   0.0  category\n",
              "DEP_DEL15              0.0  category\n",
              "DEP_TIME_BLK           0.0  category\n",
              "ARR_DEL15              0.0   float64\n",
              "DISTANCE               0.0   float64\n",
              "DISTANCE_cat           0.0  category"
            ]
          },
          "metadata": {
            "tags": []
          },
          "execution_count": 14
        }
      ]
    },
    {
      "cell_type": "code",
      "metadata": {
        "id": "kO5KFlxXxcgo",
        "colab_type": "code",
        "colab": {
          "base_uri": "https://localhost:8080/",
          "height": 334
        },
        "outputId": "c6d82132-d0d4-4b02-fc56-8782e7fc52f5"
      },
      "source": [
        "#all delayed flights per day\n",
        "f, ax = plt.subplots()\n",
        "sb.countplot(x = df_red[df_red['DEP_DEL15'] == 1]['DAY_OF_WEEK'])\n",
        "f.set_size_inches(4,5)"
      ],
      "execution_count": null,
      "outputs": [
        {
          "output_type": "display_data",
          "data": {
            "image/png": "[encoded data removed]",
            "text/plain": [
              "<Figure size 288x360 with 1 Axes>"
            ]
          },
          "metadata": {
            "tags": [],
            "needs_background": "light"
          }
        }
      ]
    },
    {
      "cell_type": "code",
      "metadata": {
        "id": "yFl9pvETtlPG",
        "colab_type": "code",
        "colab": {
          "base_uri": "https://localhost:8080/",
          "height": 297
        },
        "outputId": "8c7ca64d-0d15-4b44-d06d-fad68e1c60bd"
      },
      "source": [
        "#all delayed flights by weekday\n",
        "sb.countplot(x = df_red['DEP_DEL15'], hue = df_red['DAY_OF_WEEK'])"
      ],
      "execution_count": null,
      "outputs": [
        {
          "output_type": "execute_result",
          "data": {
            "text/plain": [
              "<matplotlib.axes._subplots.AxesSubplot at 0x7f973c80feb8>"
            ]
          },
          "metadata": {
            "tags": []
          },
          "execution_count": 16
        },
        {
          "output_type": "display_data",
          "data": {
            "image/png": "[encoded data removed]",
            "text/plain": [
              "<Figure size 432x288 with 1 Axes>"
            ]
          },
          "metadata": {
            "tags": [],
            "needs_background": "light"
          }
        }
      ]
    },
    {
      "cell_type": "code",
      "metadata": {
        "id": "YmNfTZxwtpNr",
        "colab_type": "code",
        "colab": {
          "base_uri": "https://localhost:8080/",
          "height": 334
        },
        "outputId": "ea1683b2-1ab0-4928-a71e-11388c4d7b5b"
      },
      "source": [
        "#all flights per day\n",
        "f, ax = plt.subplots()\n",
        "sb.countplot(x = df_red['DAY_OF_WEEK'])\n",
        "f.set_size_inches(4,5)"
      ],
      "execution_count": null,
      "outputs": [
        {
          "output_type": "display_data",
          "data": {
            "image/png": "[encoded data removed]",
            "text/plain": [
              "<Figure size 288x360 with 1 Axes>"
            ]
          },
          "metadata": {
            "tags": []
          }
        }
      ]
    },
    {
      "cell_type": "markdown",
      "metadata": {
        "id": "XaFbLqZ1ttIh",
        "colab_type": "text"
      },
      "source": [
        "Seems like we need to normalize the delayed flights per day to the total number of flights per day"
      ]
    },
    {
      "cell_type": "code",
      "metadata": {
        "id": "Cftr1v-Vw7Un",
        "colab_type": "code",
        "colab": {
          "base_uri": "https://localhost:8080/",
          "height": 410
        },
        "outputId": "f1d6f845-55fd-473f-b26a-746a4b4c7a3e"
      },
      "source": [
        "from matplotlib.pyplot import figure\n",
        "figure(num=None, figsize=(8, 6))\n",
        "plt.bar(x = df_red['DAY_OF_WEEK'].unique(), height = df_red.groupby(['DAY_OF_WEEK'])['ARR_DEL15'].mean())\n",
        "plt.ylim([0, 0.25])\n",
        "plt.xlabel('Day of week')\n",
        "plt.ylabel('Fraction of flights delayed')"
      ],
      "execution_count": null,
      "outputs": [
        {
          "output_type": "execute_result",
          "data": {
            "text/plain": [
              "Text(0, 0.5, 'Fraction of flights delayed')"
            ]
          },
          "metadata": {
            "tags": []
          },
          "execution_count": 25
        },
        {
          "output_type": "display_data",
          "data": {
            "image/png": "[encoded data removed]",
            "text/plain": [
              "<Figure size 576x432 with 1 Axes>"
            ]
          },
          "metadata": {
            "tags": []
          }
        }
      ]
    },
    {
      "cell_type": "markdown",
      "metadata": {
        "id": "nFQDHXlbHnXW",
        "colab_type": "text"
      },
      "source": [
        "As can be seen the fraction of flights delayed per day looks different from the total delayed flights. Highest proportion is day 5 as opposed to day 4 in raw total numbers"
      ]
    },
    {
      "cell_type": "code",
      "metadata": {
        "id": "E03lL8Axx-d3",
        "colab_type": "code",
        "colab": {
          "base_uri": "https://localhost:8080/",
          "height": 410
        },
        "outputId": "ec7c5a05-0c97-49f8-bebd-57219bbf85c6"
      },
      "source": [
        "figure(num=None, figsize=(18, 6))\n",
        "plt.bar(x = df_red['DAY_OF_MONTH'].unique(), height = df_red.groupby(['DAY_OF_MONTH']).mean()['ARR_DEL15'])\n",
        "plt.ylim([0, 0.35])\n",
        "plt.xlabel('Day of month')\n",
        "plt.ylabel('Fraction of flights delayed')"
      ],
      "execution_count": null,
      "outputs": [
        {
          "output_type": "execute_result",
          "data": {
            "text/plain": [
              "Text(0, 0.5, 'Fraction of flights delayed')"
            ]
          },
          "metadata": {
            "tags": []
          },
          "execution_count": 26
        },
        {
          "output_type": "display_data",
          "data": {
            "image/png": "[encoded data removed]",
            "text/plain": [
              "<Figure size 1296x432 with 1 Axes>"
            ]
          },
          "metadata": {
            "tags": []
          }
        }
      ]
    },
    {
      "cell_type": "code",
      "metadata": {
        "id": "C-r09zXNx-QP",
        "colab_type": "code",
        "colab": {
          "base_uri": "https://localhost:8080/",
          "height": 410
        },
        "outputId": "2b92b3f7-7ca4-44f4-893f-7f265ae1f26c"
      },
      "source": [
        "figure(num=None, figsize=(18, 6))\n",
        "plt.bar(x = df_red['OP_UNIQUE_CARRIER'].unique(), height = df_red.groupby(['OP_UNIQUE_CARRIER']).mean()['ARR_DEL15'])\n",
        "plt.ylim([0, 0.3])\n",
        "plt.xlabel('Carrier')\n",
        "plt.ylabel('Fraction of flights delayed')"
      ],
      "execution_count": null,
      "outputs": [
        {
          "output_type": "execute_result",
          "data": {
            "text/plain": [
              "Text(0, 0.5, 'Fraction of flights delayed')"
            ]
          },
          "metadata": {
            "tags": []
          },
          "execution_count": 27
        },
        {
          "output_type": "display_data",
          "data": {
            "image/png": "[encoded data removed]",
            "text/plain": [
              "<Figure size 1296x432 with 1 Axes>"
            ]
          },
          "metadata": {
            "tags": []
          }
        }
      ]
    },
    {
      "cell_type": "code",
      "metadata": {
        "id": "uM3FLzx_x-Ct",
        "colab_type": "code",
        "colab": {
          "base_uri": "https://localhost:8080/",
          "height": 369
        },
        "outputId": "328c0c02-3185-4ad8-f6ba-afbe8755627b"
      },
      "source": [
        "figure(num=None, figsize=(24, 6))\n",
        "plt.bar(x = df_red['DEP_TIME_BLK'].unique(), height = df_red.groupby(['DEP_TIME_BLK']).mean()['ARR_DEL15'])\n",
        "plt.ylim([0., 0.25])\n",
        "plt.xlabel('Departure Time')\n",
        "plt.ylabel('Fraction of flights delayed')"
      ],
      "execution_count": null,
      "outputs": [
        {
          "output_type": "execute_result",
          "data": {
            "text/plain": [
              "Text(0, 0.5, 'Fraction of flights delayed')"
            ]
          },
          "metadata": {
            "tags": []
          },
          "execution_count": 39
        },
        {
          "output_type": "display_data",
          "data": {
            "image/png": "[encoded data removed]",
            "text/plain": [
              "<Figure size 1728x432 with 1 Axes>"
            ]
          },
          "metadata": {
            "tags": []
          }
        }
      ]
    },
    {
      "cell_type": "markdown",
      "metadata": {
        "id": "CSn4AJU1uRxW",
        "colab_type": "text"
      },
      "source": [
        "List below shows what departure time results in most delays proportionally--it can be seen that it's the 1700-17:59 time slot:\n"
      ]
    },
    {
      "cell_type": "code",
      "metadata": {
        "id": "D8z2IAO8x92U",
        "colab_type": "code",
        "colab": {
          "base_uri": "https://localhost:8080/",
          "height": 403
        },
        "outputId": "2e94eb7a-c1a8-4b6f-da87-a87af7d37e2f"
      },
      "source": [
        "df_red.groupby(['DEP_TIME_BLK']).mean()['ARR_DEL15'].sort_values()"
      ],
      "execution_count": null,
      "outputs": [
        {
          "output_type": "execute_result",
          "data": {
            "text/plain": [
              "DEP_TIME_BLK\n",
              "0600-0659    0.112813\n",
              "0001-0559    0.118162\n",
              "0700-0759    0.127854\n",
              "0800-0859    0.145400\n",
              "0900-0959    0.152186\n",
              "2300-2359    0.162692\n",
              "1000-1059    0.176263\n",
              "1100-1159    0.177826\n",
              "2200-2259    0.184900\n",
              "1200-1259    0.185168\n",
              "1300-1359    0.196801\n",
              "1500-1559    0.208362\n",
              "1400-1459    0.209567\n",
              "2100-2159    0.214907\n",
              "1600-1659    0.221165\n",
              "2000-2059    0.228903\n",
              "1700-1759    0.229099\n",
              "1900-1959    0.234680\n",
              "1800-1859    0.239034\n",
              "Name: ARR_DEL15, dtype: float64"
            ]
          },
          "metadata": {
            "tags": []
          },
          "execution_count": 29
        }
      ]
    },
    {
      "cell_type": "markdown",
      "metadata": {
        "id": "0piwj6MEuYHF",
        "colab_type": "text"
      },
      "source": [
        "Lowest and Highest ratio of delayed flights by Destination shown below; do not fly to Ogden city as you have a 50% chance of being late:"
      ]
    },
    {
      "cell_type": "code",
      "metadata": {
        "id": "gWkVEZVSx9n_",
        "colab_type": "code",
        "colab": {
          "base_uri": "https://localhost:8080/",
          "height": 256
        },
        "outputId": "cd636353-16ff-4038-fb9e-16f45710dadd"
      },
      "source": [
        "df_red.groupby(['DEST']).mean()['ARR_DEL15'].sort_values()"
      ],
      "execution_count": null,
      "outputs": [
        {
          "output_type": "execute_result",
          "data": {
            "text/plain": [
              "DEST\n",
              "ELM    0.000000\n",
              "CPR    0.044118\n",
              "LWS    0.047619\n",
              "DRT    0.050847\n",
              "BTM    0.051724\n",
              "         ...   \n",
              "HGR    0.400000\n",
              "MKG    0.425532\n",
              "MMH    0.440000\n",
              "OGS    0.500000\n",
              "OGD    0.500000\n",
              "Name: ARR_DEL15, Length: 346, dtype: float64"
            ]
          },
          "metadata": {
            "tags": []
          },
          "execution_count": 30
        }
      ]
    },
    {
      "cell_type": "markdown",
      "metadata": {
        "id": "hJw2dolxujpa",
        "colab_type": "text"
      },
      "source": [
        "Lowest and Highest ratio of delayed flights by Origin shown below; Ogden City again stands out:\n"
      ]
    },
    {
      "cell_type": "code",
      "metadata": {
        "id": "xLguuh32ykKt",
        "colab_type": "code",
        "colab": {
          "base_uri": "https://localhost:8080/",
          "height": 256
        },
        "outputId": "2eeedec3-238c-4d7d-ac54-cbc9f633131e"
      },
      "source": [
        "#delayed_norm['ORIGIN'] = df_red['ORIGIN']\n",
        "df_red.groupby(['ORIGIN']).mean()['ARR_DEL15'].sort_values()"
      ],
      "execution_count": null,
      "outputs": [
        {
          "output_type": "execute_result",
          "data": {
            "text/plain": [
              "ORIGIN\n",
              "LYH    0.000000\n",
              "PPG    0.000000\n",
              "CPR    0.014706\n",
              "LWS    0.031250\n",
              "BRW    0.033333\n",
              "         ...   \n",
              "ACV    0.429825\n",
              "VEL    0.434783\n",
              "OWB    0.444444\n",
              "OGD    0.500000\n",
              "OGS    0.600000\n",
              "Name: ARR_DEL15, Length: 346, dtype: float64"
            ]
          },
          "metadata": {
            "tags": []
          },
          "execution_count": 31
        }
      ]
    },
    {
      "cell_type": "markdown",
      "metadata": {
        "id": "aeiyg3vWuxX_",
        "colab_type": "text"
      },
      "source": [
        "Let us check whether delayed departure translates to also delayed arrival:\n"
      ]
    },
    {
      "cell_type": "code",
      "metadata": {
        "id": "isV1qi2yu0lM",
        "colab_type": "code",
        "colab": {
          "base_uri": "https://localhost:8080/",
          "height": 379
        },
        "outputId": "8ab37145-c63f-4d45-9592-89232ed841f8"
      },
      "source": [
        "#Check by delay in departure\n",
        "sb.countplot(x = df_red['ARR_DEL15'], hue = df_red['DEP_DEL15'])"
      ],
      "execution_count": null,
      "outputs": [
        {
          "output_type": "execute_result",
          "data": {
            "text/plain": [
              "<matplotlib.axes._subplots.AxesSubplot at 0x7f06f47e3f98>"
            ]
          },
          "metadata": {
            "tags": []
          },
          "execution_count": 32
        },
        {
          "output_type": "display_data",
          "data": {
            "image/png": "[encoded data removed]",
            "text/plain": [
              "<Figure size 576x396 with 1 Axes>"
            ]
          },
          "metadata": {
            "tags": []
          }
        }
      ]
    },
    {
      "cell_type": "markdown",
      "metadata": {
        "id": "A3jDaZqUu34D",
        "colab_type": "text"
      },
      "source": [
        "As expected, flights that leave late also (mostly) arrive late. Let us now look at distance traveled below"
      ]
    },
    {
      "cell_type": "code",
      "metadata": {
        "id": "3iyJ07vZu86m",
        "colab_type": "code",
        "colab": {
          "base_uri": "https://localhost:8080/",
          "height": 379
        },
        "outputId": "3d2ba8d7-fcba-495d-b5c1-c8d5f210dade"
      },
      "source": [
        "sb.boxplot('DEP_DEL15', 'DISTANCE', data=df_red, orient='v')"
      ],
      "execution_count": null,
      "outputs": [
        {
          "output_type": "execute_result",
          "data": {
            "text/plain": [
              "<matplotlib.axes._subplots.AxesSubplot at 0x7f06f4702438>"
            ]
          },
          "metadata": {
            "tags": []
          },
          "execution_count": 33
        },
        {
          "output_type": "display_data",
          "data": {
            "image/png": "[encoded data removed]",
            "text/plain": [
              "<Figure size 576x396 with 1 Axes>"
            ]
          },
          "metadata": {
            "tags": []
          }
        }
      ]
    },
    {
      "cell_type": "code",
      "metadata": {
        "id": "7THRArmryj71",
        "colab_type": "code",
        "colab": {
          "base_uri": "https://localhost:8080/",
          "height": 90
        },
        "outputId": "82951f11-7b64-49c4-eb4f-039a0fa3f715"
      },
      "source": [
        "df_red.groupby(['DEP_DEL15']).mean()['DISTANCE']"
      ],
      "execution_count": null,
      "outputs": [
        {
          "output_type": "execute_result",
          "data": {
            "text/plain": [
              "DEP_DEL15\n",
              "0.0    799.301073\n",
              "1.0    817.114257\n",
              "Name: DISTANCE, dtype: float64"
            ]
          },
          "metadata": {
            "tags": []
          },
          "execution_count": 34
        }
      ]
    },
    {
      "cell_type": "code",
      "metadata": {
        "id": "chGe5ZSnyj3d",
        "colab_type": "code",
        "colab": {
          "base_uri": "https://localhost:8080/",
          "height": 90
        },
        "outputId": "f60927cd-1ca8-4f90-89a6-8b8a87da1534"
      },
      "source": [
        "df_red.groupby(['DEP_DEL15']).median()['DISTANCE']"
      ],
      "execution_count": null,
      "outputs": [
        {
          "output_type": "execute_result",
          "data": {
            "text/plain": [
              "DEP_DEL15\n",
              "0.0    637.0\n",
              "1.0    674.0\n",
              "Name: DISTANCE, dtype: float64"
            ]
          },
          "metadata": {
            "tags": []
          },
          "execution_count": 35
        }
      ]
    },
    {
      "cell_type": "markdown",
      "metadata": {
        "id": "-253aEoKzSQZ",
        "colab_type": "text"
      },
      "source": [
        "There seems to be a slightly higher distance traveled for flights that were delayed. Let us do a t-test to check whether this difference is statistically significant"
      ]
    },
    {
      "cell_type": "code",
      "metadata": {
        "id": "j3AaA3pbyjyb",
        "colab_type": "code",
        "colab": {
          "base_uri": "https://localhost:8080/",
          "height": 35
        },
        "outputId": "3a965a5c-95ed-4ddd-dce3-70f16a4378b3"
      },
      "source": [
        "stats.ttest_ind(df_red[df_red['DEP_DEL15'] == 1]['DISTANCE'], \n",
        "                df_red[df_red['DEP_DEL15'] == 0]['DISTANCE'], equal_var=False)"
      ],
      "execution_count": null,
      "outputs": [
        {
          "output_type": "execute_result",
          "data": {
            "text/plain": [
              "Ttest_indResult(statistic=8.639128333792723, pvalue=5.720931422361972e-18)"
            ]
          },
          "metadata": {
            "tags": []
          },
          "execution_count": 36
        }
      ]
    },
    {
      "cell_type": "markdown",
      "metadata": {
        "id": "_cYYHKv5zYhZ",
        "colab_type": "text"
      },
      "source": [
        "It is significant!\n",
        "\n",
        "\n",
        "Finally dummyfying variables for categorical variables: OP_UNIQUE_CARRIER', 'ORIGIN', 'DEST','DEP_TIME_BLK', 'DAY_OF_MONTH', 'DAY_OF_WEEK and normalizing the 'DISTANCE'"
      ]
    },
    {
      "cell_type": "code",
      "metadata": {
        "id": "sp4jF5ST3ecy",
        "colab_type": "code",
        "colab": {}
      },
      "source": [
        "df_dum = pd.get_dummies(df_red, columns = ['ORIGIN', \n",
        "                                           'DEST', \n",
        "                                           'OP_UNIQUE_CARRIER', \n",
        "                                           'DEP_TIME_BLK', \n",
        "                                           'DAY_OF_MONTH',\n",
        "                                            'DAY_OF_WEEK'])\n",
        "\n",
        "mean = df_dum['DISTANCE'].mean()\n",
        "std =  df_dum['DISTANCE'].std()\n",
        "df_dum['DISTANCE'] = (df_dum['DISTANCE'] - mean)/std"
      ],
      "execution_count": null,
      "outputs": []
    },
    {
      "cell_type": "code",
      "metadata": {
        "id": "aCf_mcp71fol",
        "colab_type": "code",
        "colab": {
          "base_uri": "https://localhost:8080/",
          "height": 583
        },
        "outputId": "587fbbd0-4267-4d70-86f1-d9ff21f67251"
      },
      "source": [
        "df_dum"
      ],
      "execution_count": null,
      "outputs": [
        {
          "output_type": "execute_result",
          "data": {
            "text/html": [
              "<div>\n",
              "<style scoped>\n",
              "    .dataframe tbody tr th:only-of-type {\n",
              "        vertical-align: middle;\n",
              "    }\n",
              "\n",
              "    .dataframe tbody tr th {\n",
              "        vertical-align: top;\n",
              "    }\n",
              "\n",
              "    .dataframe thead th {\n",
              "        text-align: right;\n",
              "    }\n",
              "</style>\n",
              "<table border=\"1\" class=\"dataframe\">\n",
              "  <thead>\n",
              "    <tr style=\"text-align: right;\">\n",
              "      <th></th>\n",
              "      <th>DEP_DEL15</th>\n",
              "      <th>ARR_DEL15</th>\n",
              "      <th>DISTANCE</th>\n",
              "      <th>DISTANCE_cat</th>\n",
              "      <th>ORIGIN_ABE</th>\n",
              "      <th>ORIGIN_ABI</th>\n",
              "      <th>ORIGIN_ABQ</th>\n",
              "      <th>ORIGIN_ABR</th>\n",
              "      <th>ORIGIN_ABY</th>\n",
              "      <th>ORIGIN_ACT</th>\n",
              "      <th>ORIGIN_ACV</th>\n",
              "      <th>ORIGIN_ACY</th>\n",
              "      <th>ORIGIN_ADK</th>\n",
              "      <th>ORIGIN_ADQ</th>\n",
              "      <th>ORIGIN_AEX</th>\n",
              "      <th>ORIGIN_AGS</th>\n",
              "      <th>ORIGIN_ALB</th>\n",
              "      <th>ORIGIN_ALO</th>\n",
              "      <th>ORIGIN_AMA</th>\n",
              "      <th>ORIGIN_ANC</th>\n",
              "      <th>ORIGIN_APN</th>\n",
              "      <th>ORIGIN_ART</th>\n",
              "      <th>ORIGIN_ASE</th>\n",
              "      <th>ORIGIN_ATL</th>\n",
              "      <th>ORIGIN_ATW</th>\n",
              "      <th>ORIGIN_AUS</th>\n",
              "      <th>ORIGIN_AVL</th>\n",
              "      <th>ORIGIN_AVP</th>\n",
              "      <th>ORIGIN_AZA</th>\n",
              "      <th>ORIGIN_AZO</th>\n",
              "      <th>ORIGIN_BDL</th>\n",
              "      <th>ORIGIN_BET</th>\n",
              "      <th>ORIGIN_BFF</th>\n",
              "      <th>ORIGIN_BFL</th>\n",
              "      <th>ORIGIN_BGM</th>\n",
              "      <th>ORIGIN_BGR</th>\n",
              "      <th>ORIGIN_BHM</th>\n",
              "      <th>ORIGIN_BIL</th>\n",
              "      <th>ORIGIN_BIS</th>\n",
              "      <th>ORIGIN_BJI</th>\n",
              "      <th>...</th>\n",
              "      <th>DEP_TIME_BLK_2200-2259</th>\n",
              "      <th>DEP_TIME_BLK_2300-2359</th>\n",
              "      <th>DAY_OF_MONTH_1</th>\n",
              "      <th>DAY_OF_MONTH_2</th>\n",
              "      <th>DAY_OF_MONTH_3</th>\n",
              "      <th>DAY_OF_MONTH_4</th>\n",
              "      <th>DAY_OF_MONTH_5</th>\n",
              "      <th>DAY_OF_MONTH_6</th>\n",
              "      <th>DAY_OF_MONTH_7</th>\n",
              "      <th>DAY_OF_MONTH_8</th>\n",
              "      <th>DAY_OF_MONTH_9</th>\n",
              "      <th>DAY_OF_MONTH_10</th>\n",
              "      <th>DAY_OF_MONTH_11</th>\n",
              "      <th>DAY_OF_MONTH_12</th>\n",
              "      <th>DAY_OF_MONTH_13</th>\n",
              "      <th>DAY_OF_MONTH_14</th>\n",
              "      <th>DAY_OF_MONTH_15</th>\n",
              "      <th>DAY_OF_MONTH_16</th>\n",
              "      <th>DAY_OF_MONTH_17</th>\n",
              "      <th>DAY_OF_MONTH_18</th>\n",
              "      <th>DAY_OF_MONTH_19</th>\n",
              "      <th>DAY_OF_MONTH_20</th>\n",
              "      <th>DAY_OF_MONTH_21</th>\n",
              "      <th>DAY_OF_MONTH_22</th>\n",
              "      <th>DAY_OF_MONTH_23</th>\n",
              "      <th>DAY_OF_MONTH_24</th>\n",
              "      <th>DAY_OF_MONTH_25</th>\n",
              "      <th>DAY_OF_MONTH_26</th>\n",
              "      <th>DAY_OF_MONTH_27</th>\n",
              "      <th>DAY_OF_MONTH_28</th>\n",
              "      <th>DAY_OF_MONTH_29</th>\n",
              "      <th>DAY_OF_MONTH_30</th>\n",
              "      <th>DAY_OF_MONTH_31</th>\n",
              "      <th>DAY_OF_WEEK_1</th>\n",
              "      <th>DAY_OF_WEEK_2</th>\n",
              "      <th>DAY_OF_WEEK_3</th>\n",
              "      <th>DAY_OF_WEEK_4</th>\n",
              "      <th>DAY_OF_WEEK_5</th>\n",
              "      <th>DAY_OF_WEEK_6</th>\n",
              "      <th>DAY_OF_WEEK_7</th>\n",
              "    </tr>\n",
              "  </thead>\n",
              "  <tbody>\n",
              "    <tr>\n",
              "      <th>0</th>\n",
              "      <td>0.0</td>\n",
              "      <td>0.0</td>\n",
              "      <td>-0.848173</td>\n",
              "      <td>(30.999, 366.0]</td>\n",
              "      <td>0</td>\n",
              "      <td>0</td>\n",
              "      <td>0</td>\n",
              "      <td>0</td>\n",
              "      <td>0</td>\n",
              "      <td>0</td>\n",
              "      <td>0</td>\n",
              "      <td>0</td>\n",
              "      <td>0</td>\n",
              "      <td>0</td>\n",
              "      <td>0</td>\n",
              "      <td>0</td>\n",
              "      <td>0</td>\n",
              "      <td>0</td>\n",
              "      <td>0</td>\n",
              "      <td>0</td>\n",
              "      <td>0</td>\n",
              "      <td>0</td>\n",
              "      <td>0</td>\n",
              "      <td>0</td>\n",
              "      <td>0</td>\n",
              "      <td>0</td>\n",
              "      <td>0</td>\n",
              "      <td>0</td>\n",
              "      <td>0</td>\n",
              "      <td>0</td>\n",
              "      <td>0</td>\n",
              "      <td>0</td>\n",
              "      <td>0</td>\n",
              "      <td>0</td>\n",
              "      <td>0</td>\n",
              "      <td>0</td>\n",
              "      <td>0</td>\n",
              "      <td>0</td>\n",
              "      <td>0</td>\n",
              "      <td>0</td>\n",
              "      <td>...</td>\n",
              "      <td>0</td>\n",
              "      <td>0</td>\n",
              "      <td>1</td>\n",
              "      <td>0</td>\n",
              "      <td>0</td>\n",
              "      <td>0</td>\n",
              "      <td>0</td>\n",
              "      <td>0</td>\n",
              "      <td>0</td>\n",
              "      <td>0</td>\n",
              "      <td>0</td>\n",
              "      <td>0</td>\n",
              "      <td>0</td>\n",
              "      <td>0</td>\n",
              "      <td>0</td>\n",
              "      <td>0</td>\n",
              "      <td>0</td>\n",
              "      <td>0</td>\n",
              "      <td>0</td>\n",
              "      <td>0</td>\n",
              "      <td>0</td>\n",
              "      <td>0</td>\n",
              "      <td>0</td>\n",
              "      <td>0</td>\n",
              "      <td>0</td>\n",
              "      <td>0</td>\n",
              "      <td>0</td>\n",
              "      <td>0</td>\n",
              "      <td>0</td>\n",
              "      <td>0</td>\n",
              "      <td>0</td>\n",
              "      <td>0</td>\n",
              "      <td>0</td>\n",
              "      <td>0</td>\n",
              "      <td>1</td>\n",
              "      <td>0</td>\n",
              "      <td>0</td>\n",
              "      <td>0</td>\n",
              "      <td>0</td>\n",
              "      <td>0</td>\n",
              "    </tr>\n",
              "    <tr>\n",
              "      <th>1</th>\n",
              "      <td>0.0</td>\n",
              "      <td>0.0</td>\n",
              "      <td>-0.348448</td>\n",
              "      <td>(366.0, 642.0]</td>\n",
              "      <td>0</td>\n",
              "      <td>0</td>\n",
              "      <td>0</td>\n",
              "      <td>0</td>\n",
              "      <td>0</td>\n",
              "      <td>0</td>\n",
              "      <td>0</td>\n",
              "      <td>0</td>\n",
              "      <td>0</td>\n",
              "      <td>0</td>\n",
              "      <td>0</td>\n",
              "      <td>0</td>\n",
              "      <td>0</td>\n",
              "      <td>0</td>\n",
              "      <td>0</td>\n",
              "      <td>0</td>\n",
              "      <td>0</td>\n",
              "      <td>0</td>\n",
              "      <td>0</td>\n",
              "      <td>0</td>\n",
              "      <td>0</td>\n",
              "      <td>0</td>\n",
              "      <td>0</td>\n",
              "      <td>0</td>\n",
              "      <td>0</td>\n",
              "      <td>0</td>\n",
              "      <td>0</td>\n",
              "      <td>0</td>\n",
              "      <td>0</td>\n",
              "      <td>0</td>\n",
              "      <td>0</td>\n",
              "      <td>0</td>\n",
              "      <td>0</td>\n",
              "      <td>0</td>\n",
              "      <td>0</td>\n",
              "      <td>0</td>\n",
              "      <td>...</td>\n",
              "      <td>0</td>\n",
              "      <td>0</td>\n",
              "      <td>1</td>\n",
              "      <td>0</td>\n",
              "      <td>0</td>\n",
              "      <td>0</td>\n",
              "      <td>0</td>\n",
              "      <td>0</td>\n",
              "      <td>0</td>\n",
              "      <td>0</td>\n",
              "      <td>0</td>\n",
              "      <td>0</td>\n",
              "      <td>0</td>\n",
              "      <td>0</td>\n",
              "      <td>0</td>\n",
              "      <td>0</td>\n",
              "      <td>0</td>\n",
              "      <td>0</td>\n",
              "      <td>0</td>\n",
              "      <td>0</td>\n",
              "      <td>0</td>\n",
              "      <td>0</td>\n",
              "      <td>0</td>\n",
              "      <td>0</td>\n",
              "      <td>0</td>\n",
              "      <td>0</td>\n",
              "      <td>0</td>\n",
              "      <td>0</td>\n",
              "      <td>0</td>\n",
              "      <td>0</td>\n",
              "      <td>0</td>\n",
              "      <td>0</td>\n",
              "      <td>0</td>\n",
              "      <td>0</td>\n",
              "      <td>1</td>\n",
              "      <td>0</td>\n",
              "      <td>0</td>\n",
              "      <td>0</td>\n",
              "      <td>0</td>\n",
              "      <td>0</td>\n",
              "    </tr>\n",
              "    <tr>\n",
              "      <th>2</th>\n",
              "      <td>0.0</td>\n",
              "      <td>0.0</td>\n",
              "      <td>-0.968039</td>\n",
              "      <td>(30.999, 366.0]</td>\n",
              "      <td>0</td>\n",
              "      <td>0</td>\n",
              "      <td>0</td>\n",
              "      <td>0</td>\n",
              "      <td>0</td>\n",
              "      <td>0</td>\n",
              "      <td>0</td>\n",
              "      <td>0</td>\n",
              "      <td>0</td>\n",
              "      <td>0</td>\n",
              "      <td>0</td>\n",
              "      <td>0</td>\n",
              "      <td>0</td>\n",
              "      <td>0</td>\n",
              "      <td>0</td>\n",
              "      <td>0</td>\n",
              "      <td>0</td>\n",
              "      <td>0</td>\n",
              "      <td>0</td>\n",
              "      <td>0</td>\n",
              "      <td>0</td>\n",
              "      <td>0</td>\n",
              "      <td>0</td>\n",
              "      <td>0</td>\n",
              "      <td>0</td>\n",
              "      <td>0</td>\n",
              "      <td>0</td>\n",
              "      <td>0</td>\n",
              "      <td>0</td>\n",
              "      <td>0</td>\n",
              "      <td>0</td>\n",
              "      <td>0</td>\n",
              "      <td>0</td>\n",
              "      <td>0</td>\n",
              "      <td>0</td>\n",
              "      <td>0</td>\n",
              "      <td>...</td>\n",
              "      <td>0</td>\n",
              "      <td>0</td>\n",
              "      <td>1</td>\n",
              "      <td>0</td>\n",
              "      <td>0</td>\n",
              "      <td>0</td>\n",
              "      <td>0</td>\n",
              "      <td>0</td>\n",
              "      <td>0</td>\n",
              "      <td>0</td>\n",
              "      <td>0</td>\n",
              "      <td>0</td>\n",
              "      <td>0</td>\n",
              "      <td>0</td>\n",
              "      <td>0</td>\n",
              "      <td>0</td>\n",
              "      <td>0</td>\n",
              "      <td>0</td>\n",
              "      <td>0</td>\n",
              "      <td>0</td>\n",
              "      <td>0</td>\n",
              "      <td>0</td>\n",
              "      <td>0</td>\n",
              "      <td>0</td>\n",
              "      <td>0</td>\n",
              "      <td>0</td>\n",
              "      <td>0</td>\n",
              "      <td>0</td>\n",
              "      <td>0</td>\n",
              "      <td>0</td>\n",
              "      <td>0</td>\n",
              "      <td>0</td>\n",
              "      <td>0</td>\n",
              "      <td>0</td>\n",
              "      <td>1</td>\n",
              "      <td>0</td>\n",
              "      <td>0</td>\n",
              "      <td>0</td>\n",
              "      <td>0</td>\n",
              "      <td>0</td>\n",
              "    </tr>\n",
              "    <tr>\n",
              "      <th>3</th>\n",
              "      <td>0.0</td>\n",
              "      <td>0.0</td>\n",
              "      <td>-0.978169</td>\n",
              "      <td>(30.999, 366.0]</td>\n",
              "      <td>0</td>\n",
              "      <td>0</td>\n",
              "      <td>0</td>\n",
              "      <td>0</td>\n",
              "      <td>0</td>\n",
              "      <td>0</td>\n",
              "      <td>0</td>\n",
              "      <td>0</td>\n",
              "      <td>0</td>\n",
              "      <td>0</td>\n",
              "      <td>0</td>\n",
              "      <td>0</td>\n",
              "      <td>0</td>\n",
              "      <td>0</td>\n",
              "      <td>0</td>\n",
              "      <td>0</td>\n",
              "      <td>0</td>\n",
              "      <td>0</td>\n",
              "      <td>0</td>\n",
              "      <td>0</td>\n",
              "      <td>0</td>\n",
              "      <td>0</td>\n",
              "      <td>0</td>\n",
              "      <td>0</td>\n",
              "      <td>0</td>\n",
              "      <td>0</td>\n",
              "      <td>0</td>\n",
              "      <td>0</td>\n",
              "      <td>0</td>\n",
              "      <td>0</td>\n",
              "      <td>0</td>\n",
              "      <td>0</td>\n",
              "      <td>0</td>\n",
              "      <td>0</td>\n",
              "      <td>0</td>\n",
              "      <td>0</td>\n",
              "      <td>...</td>\n",
              "      <td>0</td>\n",
              "      <td>0</td>\n",
              "      <td>1</td>\n",
              "      <td>0</td>\n",
              "      <td>0</td>\n",
              "      <td>0</td>\n",
              "      <td>0</td>\n",
              "      <td>0</td>\n",
              "      <td>0</td>\n",
              "      <td>0</td>\n",
              "      <td>0</td>\n",
              "      <td>0</td>\n",
              "      <td>0</td>\n",
              "      <td>0</td>\n",
              "      <td>0</td>\n",
              "      <td>0</td>\n",
              "      <td>0</td>\n",
              "      <td>0</td>\n",
              "      <td>0</td>\n",
              "      <td>0</td>\n",
              "      <td>0</td>\n",
              "      <td>0</td>\n",
              "      <td>0</td>\n",
              "      <td>0</td>\n",
              "      <td>0</td>\n",
              "      <td>0</td>\n",
              "      <td>0</td>\n",
              "      <td>0</td>\n",
              "      <td>0</td>\n",
              "      <td>0</td>\n",
              "      <td>0</td>\n",
              "      <td>0</td>\n",
              "      <td>0</td>\n",
              "      <td>0</td>\n",
              "      <td>1</td>\n",
              "      <td>0</td>\n",
              "      <td>0</td>\n",
              "      <td>0</td>\n",
              "      <td>0</td>\n",
              "      <td>0</td>\n",
              "    </tr>\n",
              "    <tr>\n",
              "      <th>4</th>\n",
              "      <td>0.0</td>\n",
              "      <td>0.0</td>\n",
              "      <td>-0.377149</td>\n",
              "      <td>(366.0, 642.0]</td>\n",
              "      <td>0</td>\n",
              "      <td>0</td>\n",
              "      <td>0</td>\n",
              "      <td>0</td>\n",
              "      <td>0</td>\n",
              "      <td>0</td>\n",
              "      <td>0</td>\n",
              "      <td>0</td>\n",
              "      <td>0</td>\n",
              "      <td>0</td>\n",
              "      <td>0</td>\n",
              "      <td>0</td>\n",
              "      <td>0</td>\n",
              "      <td>0</td>\n",
              "      <td>0</td>\n",
              "      <td>0</td>\n",
              "      <td>0</td>\n",
              "      <td>0</td>\n",
              "      <td>0</td>\n",
              "      <td>1</td>\n",
              "      <td>0</td>\n",
              "      <td>0</td>\n",
              "      <td>0</td>\n",
              "      <td>0</td>\n",
              "      <td>0</td>\n",
              "      <td>0</td>\n",
              "      <td>0</td>\n",
              "      <td>0</td>\n",
              "      <td>0</td>\n",
              "      <td>0</td>\n",
              "      <td>0</td>\n",
              "      <td>0</td>\n",
              "      <td>0</td>\n",
              "      <td>0</td>\n",
              "      <td>0</td>\n",
              "      <td>0</td>\n",
              "      <td>...</td>\n",
              "      <td>0</td>\n",
              "      <td>0</td>\n",
              "      <td>1</td>\n",
              "      <td>0</td>\n",
              "      <td>0</td>\n",
              "      <td>0</td>\n",
              "      <td>0</td>\n",
              "      <td>0</td>\n",
              "      <td>0</td>\n",
              "      <td>0</td>\n",
              "      <td>0</td>\n",
              "      <td>0</td>\n",
              "      <td>0</td>\n",
              "      <td>0</td>\n",
              "      <td>0</td>\n",
              "      <td>0</td>\n",
              "      <td>0</td>\n",
              "      <td>0</td>\n",
              "      <td>0</td>\n",
              "      <td>0</td>\n",
              "      <td>0</td>\n",
              "      <td>0</td>\n",
              "      <td>0</td>\n",
              "      <td>0</td>\n",
              "      <td>0</td>\n",
              "      <td>0</td>\n",
              "      <td>0</td>\n",
              "      <td>0</td>\n",
              "      <td>0</td>\n",
              "      <td>0</td>\n",
              "      <td>0</td>\n",
              "      <td>0</td>\n",
              "      <td>0</td>\n",
              "      <td>0</td>\n",
              "      <td>1</td>\n",
              "      <td>0</td>\n",
              "      <td>0</td>\n",
              "      <td>0</td>\n",
              "      <td>0</td>\n",
              "      <td>0</td>\n",
              "    </tr>\n",
              "    <tr>\n",
              "      <th>...</th>\n",
              "      <td>...</td>\n",
              "      <td>...</td>\n",
              "      <td>...</td>\n",
              "      <td>...</td>\n",
              "      <td>...</td>\n",
              "      <td>...</td>\n",
              "      <td>...</td>\n",
              "      <td>...</td>\n",
              "      <td>...</td>\n",
              "      <td>...</td>\n",
              "      <td>...</td>\n",
              "      <td>...</td>\n",
              "      <td>...</td>\n",
              "      <td>...</td>\n",
              "      <td>...</td>\n",
              "      <td>...</td>\n",
              "      <td>...</td>\n",
              "      <td>...</td>\n",
              "      <td>...</td>\n",
              "      <td>...</td>\n",
              "      <td>...</td>\n",
              "      <td>...</td>\n",
              "      <td>...</td>\n",
              "      <td>...</td>\n",
              "      <td>...</td>\n",
              "      <td>...</td>\n",
              "      <td>...</td>\n",
              "      <td>...</td>\n",
              "      <td>...</td>\n",
              "      <td>...</td>\n",
              "      <td>...</td>\n",
              "      <td>...</td>\n",
              "      <td>...</td>\n",
              "      <td>...</td>\n",
              "      <td>...</td>\n",
              "      <td>...</td>\n",
              "      <td>...</td>\n",
              "      <td>...</td>\n",
              "      <td>...</td>\n",
              "      <td>...</td>\n",
              "      <td>...</td>\n",
              "      <td>...</td>\n",
              "      <td>...</td>\n",
              "      <td>...</td>\n",
              "      <td>...</td>\n",
              "      <td>...</td>\n",
              "      <td>...</td>\n",
              "      <td>...</td>\n",
              "      <td>...</td>\n",
              "      <td>...</td>\n",
              "      <td>...</td>\n",
              "      <td>...</td>\n",
              "      <td>...</td>\n",
              "      <td>...</td>\n",
              "      <td>...</td>\n",
              "      <td>...</td>\n",
              "      <td>...</td>\n",
              "      <td>...</td>\n",
              "      <td>...</td>\n",
              "      <td>...</td>\n",
              "      <td>...</td>\n",
              "      <td>...</td>\n",
              "      <td>...</td>\n",
              "      <td>...</td>\n",
              "      <td>...</td>\n",
              "      <td>...</td>\n",
              "      <td>...</td>\n",
              "      <td>...</td>\n",
              "      <td>...</td>\n",
              "      <td>...</td>\n",
              "      <td>...</td>\n",
              "      <td>...</td>\n",
              "      <td>...</td>\n",
              "      <td>...</td>\n",
              "      <td>...</td>\n",
              "      <td>...</td>\n",
              "      <td>...</td>\n",
              "      <td>...</td>\n",
              "      <td>...</td>\n",
              "      <td>...</td>\n",
              "      <td>...</td>\n",
              "    </tr>\n",
              "    <tr>\n",
              "      <th>583980</th>\n",
              "      <td>0.0</td>\n",
              "      <td>0.0</td>\n",
              "      <td>5.062421</td>\n",
              "      <td>(1045.0, 4983.0]</td>\n",
              "      <td>0</td>\n",
              "      <td>0</td>\n",
              "      <td>0</td>\n",
              "      <td>0</td>\n",
              "      <td>0</td>\n",
              "      <td>0</td>\n",
              "      <td>0</td>\n",
              "      <td>0</td>\n",
              "      <td>0</td>\n",
              "      <td>0</td>\n",
              "      <td>0</td>\n",
              "      <td>0</td>\n",
              "      <td>0</td>\n",
              "      <td>0</td>\n",
              "      <td>0</td>\n",
              "      <td>0</td>\n",
              "      <td>0</td>\n",
              "      <td>0</td>\n",
              "      <td>0</td>\n",
              "      <td>0</td>\n",
              "      <td>0</td>\n",
              "      <td>0</td>\n",
              "      <td>0</td>\n",
              "      <td>0</td>\n",
              "      <td>0</td>\n",
              "      <td>0</td>\n",
              "      <td>0</td>\n",
              "      <td>0</td>\n",
              "      <td>0</td>\n",
              "      <td>0</td>\n",
              "      <td>0</td>\n",
              "      <td>0</td>\n",
              "      <td>0</td>\n",
              "      <td>0</td>\n",
              "      <td>0</td>\n",
              "      <td>0</td>\n",
              "      <td>...</td>\n",
              "      <td>0</td>\n",
              "      <td>0</td>\n",
              "      <td>0</td>\n",
              "      <td>0</td>\n",
              "      <td>0</td>\n",
              "      <td>0</td>\n",
              "      <td>0</td>\n",
              "      <td>0</td>\n",
              "      <td>0</td>\n",
              "      <td>0</td>\n",
              "      <td>0</td>\n",
              "      <td>0</td>\n",
              "      <td>0</td>\n",
              "      <td>0</td>\n",
              "      <td>0</td>\n",
              "      <td>0</td>\n",
              "      <td>0</td>\n",
              "      <td>0</td>\n",
              "      <td>0</td>\n",
              "      <td>0</td>\n",
              "      <td>0</td>\n",
              "      <td>0</td>\n",
              "      <td>0</td>\n",
              "      <td>0</td>\n",
              "      <td>0</td>\n",
              "      <td>0</td>\n",
              "      <td>0</td>\n",
              "      <td>0</td>\n",
              "      <td>0</td>\n",
              "      <td>0</td>\n",
              "      <td>0</td>\n",
              "      <td>0</td>\n",
              "      <td>1</td>\n",
              "      <td>0</td>\n",
              "      <td>0</td>\n",
              "      <td>0</td>\n",
              "      <td>1</td>\n",
              "      <td>0</td>\n",
              "      <td>0</td>\n",
              "      <td>0</td>\n",
              "    </tr>\n",
              "    <tr>\n",
              "      <th>583981</th>\n",
              "      <td>0.0</td>\n",
              "      <td>0.0</td>\n",
              "      <td>-1.136865</td>\n",
              "      <td>(30.999, 366.0]</td>\n",
              "      <td>0</td>\n",
              "      <td>0</td>\n",
              "      <td>0</td>\n",
              "      <td>0</td>\n",
              "      <td>0</td>\n",
              "      <td>0</td>\n",
              "      <td>0</td>\n",
              "      <td>0</td>\n",
              "      <td>0</td>\n",
              "      <td>0</td>\n",
              "      <td>0</td>\n",
              "      <td>0</td>\n",
              "      <td>0</td>\n",
              "      <td>0</td>\n",
              "      <td>0</td>\n",
              "      <td>0</td>\n",
              "      <td>0</td>\n",
              "      <td>0</td>\n",
              "      <td>0</td>\n",
              "      <td>0</td>\n",
              "      <td>0</td>\n",
              "      <td>0</td>\n",
              "      <td>0</td>\n",
              "      <td>0</td>\n",
              "      <td>0</td>\n",
              "      <td>0</td>\n",
              "      <td>0</td>\n",
              "      <td>0</td>\n",
              "      <td>0</td>\n",
              "      <td>0</td>\n",
              "      <td>0</td>\n",
              "      <td>0</td>\n",
              "      <td>0</td>\n",
              "      <td>0</td>\n",
              "      <td>0</td>\n",
              "      <td>0</td>\n",
              "      <td>...</td>\n",
              "      <td>0</td>\n",
              "      <td>0</td>\n",
              "      <td>0</td>\n",
              "      <td>0</td>\n",
              "      <td>0</td>\n",
              "      <td>0</td>\n",
              "      <td>0</td>\n",
              "      <td>0</td>\n",
              "      <td>0</td>\n",
              "      <td>0</td>\n",
              "      <td>0</td>\n",
              "      <td>0</td>\n",
              "      <td>0</td>\n",
              "      <td>0</td>\n",
              "      <td>0</td>\n",
              "      <td>0</td>\n",
              "      <td>0</td>\n",
              "      <td>0</td>\n",
              "      <td>0</td>\n",
              "      <td>0</td>\n",
              "      <td>0</td>\n",
              "      <td>0</td>\n",
              "      <td>0</td>\n",
              "      <td>0</td>\n",
              "      <td>0</td>\n",
              "      <td>0</td>\n",
              "      <td>0</td>\n",
              "      <td>0</td>\n",
              "      <td>0</td>\n",
              "      <td>0</td>\n",
              "      <td>0</td>\n",
              "      <td>0</td>\n",
              "      <td>1</td>\n",
              "      <td>0</td>\n",
              "      <td>0</td>\n",
              "      <td>0</td>\n",
              "      <td>1</td>\n",
              "      <td>0</td>\n",
              "      <td>0</td>\n",
              "      <td>0</td>\n",
              "    </tr>\n",
              "    <tr>\n",
              "      <th>583982</th>\n",
              "      <td>0.0</td>\n",
              "      <td>0.0</td>\n",
              "      <td>-1.136865</td>\n",
              "      <td>(30.999, 366.0]</td>\n",
              "      <td>0</td>\n",
              "      <td>0</td>\n",
              "      <td>0</td>\n",
              "      <td>0</td>\n",
              "      <td>0</td>\n",
              "      <td>0</td>\n",
              "      <td>0</td>\n",
              "      <td>0</td>\n",
              "      <td>0</td>\n",
              "      <td>0</td>\n",
              "      <td>0</td>\n",
              "      <td>0</td>\n",
              "      <td>0</td>\n",
              "      <td>0</td>\n",
              "      <td>0</td>\n",
              "      <td>0</td>\n",
              "      <td>0</td>\n",
              "      <td>0</td>\n",
              "      <td>0</td>\n",
              "      <td>0</td>\n",
              "      <td>0</td>\n",
              "      <td>0</td>\n",
              "      <td>0</td>\n",
              "      <td>0</td>\n",
              "      <td>0</td>\n",
              "      <td>0</td>\n",
              "      <td>0</td>\n",
              "      <td>0</td>\n",
              "      <td>0</td>\n",
              "      <td>0</td>\n",
              "      <td>0</td>\n",
              "      <td>0</td>\n",
              "      <td>0</td>\n",
              "      <td>0</td>\n",
              "      <td>0</td>\n",
              "      <td>0</td>\n",
              "      <td>...</td>\n",
              "      <td>0</td>\n",
              "      <td>0</td>\n",
              "      <td>0</td>\n",
              "      <td>0</td>\n",
              "      <td>0</td>\n",
              "      <td>0</td>\n",
              "      <td>0</td>\n",
              "      <td>0</td>\n",
              "      <td>0</td>\n",
              "      <td>0</td>\n",
              "      <td>0</td>\n",
              "      <td>0</td>\n",
              "      <td>0</td>\n",
              "      <td>0</td>\n",
              "      <td>0</td>\n",
              "      <td>0</td>\n",
              "      <td>0</td>\n",
              "      <td>0</td>\n",
              "      <td>0</td>\n",
              "      <td>0</td>\n",
              "      <td>0</td>\n",
              "      <td>0</td>\n",
              "      <td>0</td>\n",
              "      <td>0</td>\n",
              "      <td>0</td>\n",
              "      <td>0</td>\n",
              "      <td>0</td>\n",
              "      <td>0</td>\n",
              "      <td>0</td>\n",
              "      <td>0</td>\n",
              "      <td>0</td>\n",
              "      <td>0</td>\n",
              "      <td>1</td>\n",
              "      <td>0</td>\n",
              "      <td>0</td>\n",
              "      <td>0</td>\n",
              "      <td>1</td>\n",
              "      <td>0</td>\n",
              "      <td>0</td>\n",
              "      <td>0</td>\n",
              "    </tr>\n",
              "    <tr>\n",
              "      <th>583983</th>\n",
              "      <td>0.0</td>\n",
              "      <td>0.0</td>\n",
              "      <td>-1.136865</td>\n",
              "      <td>(30.999, 366.0]</td>\n",
              "      <td>0</td>\n",
              "      <td>0</td>\n",
              "      <td>0</td>\n",
              "      <td>0</td>\n",
              "      <td>0</td>\n",
              "      <td>0</td>\n",
              "      <td>0</td>\n",
              "      <td>0</td>\n",
              "      <td>0</td>\n",
              "      <td>0</td>\n",
              "      <td>0</td>\n",
              "      <td>0</td>\n",
              "      <td>0</td>\n",
              "      <td>0</td>\n",
              "      <td>0</td>\n",
              "      <td>0</td>\n",
              "      <td>0</td>\n",
              "      <td>0</td>\n",
              "      <td>0</td>\n",
              "      <td>0</td>\n",
              "      <td>0</td>\n",
              "      <td>0</td>\n",
              "      <td>0</td>\n",
              "      <td>0</td>\n",
              "      <td>0</td>\n",
              "      <td>0</td>\n",
              "      <td>0</td>\n",
              "      <td>0</td>\n",
              "      <td>0</td>\n",
              "      <td>0</td>\n",
              "      <td>0</td>\n",
              "      <td>0</td>\n",
              "      <td>0</td>\n",
              "      <td>0</td>\n",
              "      <td>0</td>\n",
              "      <td>0</td>\n",
              "      <td>...</td>\n",
              "      <td>0</td>\n",
              "      <td>0</td>\n",
              "      <td>0</td>\n",
              "      <td>0</td>\n",
              "      <td>0</td>\n",
              "      <td>0</td>\n",
              "      <td>0</td>\n",
              "      <td>0</td>\n",
              "      <td>0</td>\n",
              "      <td>0</td>\n",
              "      <td>0</td>\n",
              "      <td>0</td>\n",
              "      <td>0</td>\n",
              "      <td>0</td>\n",
              "      <td>0</td>\n",
              "      <td>0</td>\n",
              "      <td>0</td>\n",
              "      <td>0</td>\n",
              "      <td>0</td>\n",
              "      <td>0</td>\n",
              "      <td>0</td>\n",
              "      <td>0</td>\n",
              "      <td>0</td>\n",
              "      <td>0</td>\n",
              "      <td>0</td>\n",
              "      <td>0</td>\n",
              "      <td>0</td>\n",
              "      <td>0</td>\n",
              "      <td>0</td>\n",
              "      <td>0</td>\n",
              "      <td>0</td>\n",
              "      <td>0</td>\n",
              "      <td>1</td>\n",
              "      <td>0</td>\n",
              "      <td>0</td>\n",
              "      <td>0</td>\n",
              "      <td>1</td>\n",
              "      <td>0</td>\n",
              "      <td>0</td>\n",
              "      <td>0</td>\n",
              "    </tr>\n",
              "    <tr>\n",
              "      <th>583984</th>\n",
              "      <td>0.0</td>\n",
              "      <td>0.0</td>\n",
              "      <td>-1.136865</td>\n",
              "      <td>(30.999, 366.0]</td>\n",
              "      <td>0</td>\n",
              "      <td>0</td>\n",
              "      <td>0</td>\n",
              "      <td>0</td>\n",
              "      <td>0</td>\n",
              "      <td>0</td>\n",
              "      <td>0</td>\n",
              "      <td>0</td>\n",
              "      <td>0</td>\n",
              "      <td>0</td>\n",
              "      <td>0</td>\n",
              "      <td>0</td>\n",
              "      <td>0</td>\n",
              "      <td>0</td>\n",
              "      <td>0</td>\n",
              "      <td>0</td>\n",
              "      <td>0</td>\n",
              "      <td>0</td>\n",
              "      <td>0</td>\n",
              "      <td>0</td>\n",
              "      <td>0</td>\n",
              "      <td>0</td>\n",
              "      <td>0</td>\n",
              "      <td>0</td>\n",
              "      <td>0</td>\n",
              "      <td>0</td>\n",
              "      <td>0</td>\n",
              "      <td>0</td>\n",
              "      <td>0</td>\n",
              "      <td>0</td>\n",
              "      <td>0</td>\n",
              "      <td>0</td>\n",
              "      <td>0</td>\n",
              "      <td>0</td>\n",
              "      <td>0</td>\n",
              "      <td>0</td>\n",
              "      <td>...</td>\n",
              "      <td>0</td>\n",
              "      <td>0</td>\n",
              "      <td>0</td>\n",
              "      <td>0</td>\n",
              "      <td>0</td>\n",
              "      <td>0</td>\n",
              "      <td>0</td>\n",
              "      <td>0</td>\n",
              "      <td>0</td>\n",
              "      <td>0</td>\n",
              "      <td>0</td>\n",
              "      <td>0</td>\n",
              "      <td>0</td>\n",
              "      <td>0</td>\n",
              "      <td>0</td>\n",
              "      <td>0</td>\n",
              "      <td>0</td>\n",
              "      <td>0</td>\n",
              "      <td>0</td>\n",
              "      <td>0</td>\n",
              "      <td>0</td>\n",
              "      <td>0</td>\n",
              "      <td>0</td>\n",
              "      <td>0</td>\n",
              "      <td>0</td>\n",
              "      <td>0</td>\n",
              "      <td>0</td>\n",
              "      <td>0</td>\n",
              "      <td>0</td>\n",
              "      <td>0</td>\n",
              "      <td>0</td>\n",
              "      <td>0</td>\n",
              "      <td>1</td>\n",
              "      <td>0</td>\n",
              "      <td>0</td>\n",
              "      <td>0</td>\n",
              "      <td>1</td>\n",
              "      <td>0</td>\n",
              "      <td>0</td>\n",
              "      <td>0</td>\n",
              "    </tr>\n",
              "  </tbody>\n",
              "</table>\n",
              "<p>565963 rows × 770 columns</p>\n",
              "</div>"
            ],
            "text/plain": [
              "       DEP_DEL15  ARR_DEL15  ...  DAY_OF_WEEK_6 DAY_OF_WEEK_7\n",
              "0            0.0        0.0  ...              0             0\n",
              "1            0.0        0.0  ...              0             0\n",
              "2            0.0        0.0  ...              0             0\n",
              "3            0.0        0.0  ...              0             0\n",
              "4            0.0        0.0  ...              0             0\n",
              "...          ...        ...  ...            ...           ...\n",
              "583980       0.0        0.0  ...              0             0\n",
              "583981       0.0        0.0  ...              0             0\n",
              "583982       0.0        0.0  ...              0             0\n",
              "583983       0.0        0.0  ...              0             0\n",
              "583984       0.0        0.0  ...              0             0\n",
              "\n",
              "[565963 rows x 770 columns]"
            ]
          },
          "metadata": {
            "tags": []
          },
          "execution_count": 38
        }
      ]
    },
    {
      "cell_type": "markdown",
      "metadata": {
        "id": "IhPxEGdTvoMN",
        "colab_type": "text"
      },
      "source": [
        "# Prediction models\n",
        "\n",
        "We will be implementing logistics regresion, decision tree,  random forest and adaboost classifier, to predict whether a flight will be delayed or not. Lastly, neural network by using keras will be used to learn about delays.\n",
        "\n",
        "## Baseline\n",
        "\n",
        "Let us first estimate what a completely random estimate would give us (an estimate that does not rely on data science or fancy machine learning at all)\n",
        "That is to say if we randomly guessed whether a flight would be late or not what our accuracy would be? Let's first get the proportion of flights that are late:"
      ]
    },
    {
      "cell_type": "code",
      "metadata": {
        "id": "OwNgfQ7Gvzec",
        "colab_type": "code",
        "colab": {
          "base_uri": "https://localhost:8080/",
          "height": 35
        },
        "outputId": "b2ae0668-7322-47d1-8101-4289d521149e"
      },
      "source": [
        "df_dum[df_dum['ARR_DEL15']==1].shape[0]/df_dum.shape[0]"
      ],
      "execution_count": null,
      "outputs": [
        {
          "output_type": "execute_result",
          "data": {
            "text/plain": [
              "0.18591674720785634"
            ]
          },
          "metadata": {
            "tags": []
          },
          "execution_count": 29
        }
      ]
    },
    {
      "cell_type": "markdown",
      "metadata": {
        "id": "RD17c-E6v2Pw",
        "colab_type": "text"
      },
      "source": [
        "So if we randomly guessed a flight would be late we'd be correct 18.6% of the time; if we randomly guessed a flight would not be late then we'd be correct 81.4% of the time. Let's check whether our models beat this:"
      ]
    },
    {
      "cell_type": "markdown",
      "metadata": {
        "id": "eLwtnHuzwK5W",
        "colab_type": "text"
      },
      "source": [
        "## Logistic Regression"
      ]
    },
    {
      "cell_type": "code",
      "metadata": {
        "id": "_RTm7upkwOmd",
        "colab_type": "code",
        "colab": {}
      },
      "source": [
        "X = df_dum.drop(['ARR_DEL15'], axis = 1)\n",
        "y = df_dum['ARR_DEL15']"
      ],
      "execution_count": null,
      "outputs": []
    },
    {
      "cell_type": "code",
      "metadata": {
        "id": "4OT1ZBFDwOiz",
        "colab_type": "code",
        "colab": {}
      },
      "source": [
        "X_train, X_test, y_train, y_test = train_test_split(X, y, test_size=0.5) # 50% training and 50% test"
      ],
      "execution_count": null,
      "outputs": []
    },
    {
      "cell_type": "code",
      "metadata": {
        "id": "zPA3-0-cwOgG",
        "colab_type": "code",
        "colab": {
          "base_uri": "https://localhost:8080/",
          "height": 146
        },
        "outputId": "0256d218-742f-4a3c-b9fc-4cb6067d3da2"
      },
      "source": [
        "lr_model = LogisticRegression(max_iter=1000, tol = 0.001,  verbose=1)\n",
        "lr_model.fit(X_train, y_train)"
      ],
      "execution_count": null,
      "outputs": [
        {
          "output_type": "stream",
          "text": [
            "[Parallel(n_jobs=1)]: Using backend SequentialBackend with 1 concurrent workers.\n",
            "[Parallel(n_jobs=1)]: Done   1 out of   1 | elapsed:  1.9min finished\n"
          ],
          "name": "stderr"
        },
        {
          "output_type": "execute_result",
          "data": {
            "text/plain": [
              "LogisticRegression(C=1.0, class_weight=None, dual=False, fit_intercept=True,\n",
              "                   intercept_scaling=1, l1_ratio=None, max_iter=1000,\n",
              "                   multi_class='auto', n_jobs=None, penalty='l2',\n",
              "                   random_state=None, solver='lbfgs', tol=0.001, verbose=1,\n",
              "                   warm_start=False)"
            ]
          },
          "metadata": {
            "tags": []
          },
          "execution_count": 34
        }
      ]
    },
    {
      "cell_type": "code",
      "metadata": {
        "id": "xqBDkzE0wOdT",
        "colab_type": "code",
        "colab": {}
      },
      "source": [
        "cv = StratifiedKFold(n_splits=5, shuffle=True)"
      ],
      "execution_count": null,
      "outputs": []
    },
    {
      "cell_type": "code",
      "metadata": {
        "id": "S8K29FtPwNTG",
        "colab_type": "code",
        "colab": {
          "base_uri": "https://localhost:8080/",
          "height": 201
        },
        "outputId": "04cf9a3a-3f85-4587-c948-5d1eadffd30f"
      },
      "source": [
        "result = cross_val_score(lr_model,X_train,y_train, cv = cv)"
      ],
      "execution_count": null,
      "outputs": [
        {
          "output_type": "stream",
          "text": [
            "[Parallel(n_jobs=1)]: Using backend SequentialBackend with 1 concurrent workers.\n",
            "[Parallel(n_jobs=1)]: Done   1 out of   1 | elapsed:  1.4min finished\n",
            "[Parallel(n_jobs=1)]: Using backend SequentialBackend with 1 concurrent workers.\n",
            "[Parallel(n_jobs=1)]: Done   1 out of   1 | elapsed:  1.4min finished\n",
            "[Parallel(n_jobs=1)]: Using backend SequentialBackend with 1 concurrent workers.\n",
            "[Parallel(n_jobs=1)]: Done   1 out of   1 | elapsed:  1.3min finished\n",
            "[Parallel(n_jobs=1)]: Using backend SequentialBackend with 1 concurrent workers.\n",
            "[Parallel(n_jobs=1)]: Done   1 out of   1 | elapsed:  1.4min finished\n",
            "[Parallel(n_jobs=1)]: Using backend SequentialBackend with 1 concurrent workers.\n",
            "[Parallel(n_jobs=1)]: Done   1 out of   1 | elapsed:  1.3min finished\n"
          ],
          "name": "stderr"
        }
      ]
    },
    {
      "cell_type": "code",
      "metadata": {
        "id": "bV6jVK-OwNQi",
        "colab_type": "code",
        "colab": {
          "base_uri": "https://localhost:8080/",
          "height": 72
        },
        "outputId": "1819ec6f-6d5d-41ac-c2a7-26d7c102b329"
      },
      "source": [
        "print(f'Lower Limit: {np.min(result)}')\n",
        "print(f'Mean: {np.mean(result)}')\n",
        "print(f'Upper Limit: {np.max(result)}')"
      ],
      "execution_count": null,
      "outputs": [
        {
          "output_type": "stream",
          "text": [
            "Lower Limit: 0.9155417343981906\n",
            "Mean: 0.9167647286719534\n",
            "Upper Limit: 0.9181214220086226\n"
          ],
          "name": "stdout"
        }
      ]
    },
    {
      "cell_type": "code",
      "metadata": {
        "id": "JcVvt4wiwNN3",
        "colab_type": "code",
        "colab": {}
      },
      "source": [
        "pred = lr_model.predict(X_test)\n",
        "pred_prob = lr_model.predict_proba(X_test)"
      ],
      "execution_count": null,
      "outputs": []
    },
    {
      "cell_type": "code",
      "metadata": {
        "id": "KDp5gtcMwNLc",
        "colab_type": "code",
        "colab": {
          "base_uri": "https://localhost:8080/",
          "height": 219
        },
        "outputId": "fd44c448-e255-4ce8-8751-aebdd5df7784"
      },
      "source": [
        "print(\"Classification:\\n\",classification_report(y_test, pred, digits=3))\n",
        "\n",
        "# print the area under the curve\n",
        "print(f'AUC: {roc_auc_score(y_test,pred_prob[:,1])}')"
      ],
      "execution_count": null,
      "outputs": [
        {
          "output_type": "stream",
          "text": [
            "Classification:\n",
            "               precision    recall  f1-score   support\n",
            "\n",
            "         0.0      0.942     0.957     0.949    230337\n",
            "         1.0      0.798     0.741     0.768     52645\n",
            "\n",
            "    accuracy                          0.917    282982\n",
            "   macro avg      0.870     0.849     0.859    282982\n",
            "weighted avg      0.915     0.917     0.916    282982\n",
            "\n",
            "AUC: 0.8944613515205854\n"
          ],
          "name": "stdout"
        }
      ]
    },
    {
      "cell_type": "code",
      "metadata": {
        "id": "WkbVZiFOwNIN",
        "colab_type": "code",
        "colab": {
          "base_uri": "https://localhost:8080/",
          "height": 349
        },
        "outputId": "feb8bd82-4a52-4cfa-b883-a4fcea465cba"
      },
      "source": [
        "ax = plt.axes()\n",
        "visualizer = ROCAUC(lr_model, \n",
        "                    ax = ax,\n",
        "                    classes = ['Not Delayed', 'Delayed'])\n",
        "\n",
        "visualizer.fit(X_train, y_train)         \n",
        "visualizer.score(X_test, y_test)\n",
        "ax.set_title('Logistic Regression Model')\n",
        "ax.set_xlabel('False Positive Rate')\n",
        "ax.set_ylabel('True Positive Rate')\n",
        "ax.legend()"
      ],
      "execution_count": null,
      "outputs": [
        {
          "output_type": "stream",
          "text": [
            "[Parallel(n_jobs=1)]: Using backend SequentialBackend with 1 concurrent workers.\n",
            "[Parallel(n_jobs=1)]: Done   1 out of   1 | elapsed:  1.9min finished\n"
          ],
          "name": "stderr"
        },
        {
          "output_type": "execute_result",
          "data": {
            "text/plain": [
              "<matplotlib.legend.Legend at 0x7f17071a2978>"
            ]
          },
          "metadata": {
            "tags": []
          },
          "execution_count": 40
        },
        {
          "output_type": "display_data",
          "data": {
            "image/png": "[encoded data removed]",
            "text/plain": [
              "<Figure size 432x288 with 1 Axes>"
            ]
          },
          "metadata": {
            "tags": [],
            "needs_background": "light"
          }
        }
      ]
    },
    {
      "cell_type": "markdown",
      "metadata": {
        "id": "qWMnq3PGxnGx",
        "colab_type": "text"
      },
      "source": [
        "## Decision Tree Classifier"
      ]
    },
    {
      "cell_type": "code",
      "metadata": {
        "id": "EFDHO2OkwNFw",
        "colab_type": "code",
        "colab": {}
      },
      "source": [
        "clf_dt = DecisionTreeClassifier(random_state = 0)\n",
        "dt_model = clf_dt.fit(X_train, y_train)"
      ],
      "execution_count": null,
      "outputs": []
    },
    {
      "cell_type": "code",
      "metadata": {
        "id": "d580Lk91wNC7",
        "colab_type": "code",
        "colab": {
          "base_uri": "https://localhost:8080/",
          "height": 182
        },
        "outputId": "3fe63f42-524b-4d67-a5d8-002579f550e2"
      },
      "source": [
        "y_pred = dt_model.predict(X_test)\n",
        "print(metrics.classification_report(y_test,y_pred))"
      ],
      "execution_count": null,
      "outputs": [
        {
          "output_type": "stream",
          "text": [
            "              precision    recall  f1-score   support\n",
            "\n",
            "         0.0       0.93      0.93      0.93    230337\n",
            "         1.0       0.69      0.67      0.68     52645\n",
            "\n",
            "    accuracy                           0.88    282982\n",
            "   macro avg       0.81      0.80      0.80    282982\n",
            "weighted avg       0.88      0.88      0.88    282982\n",
            "\n"
          ],
          "name": "stdout"
        }
      ]
    },
    {
      "cell_type": "code",
      "metadata": {
        "id": "BQdFsw2NwNA3",
        "colab_type": "code",
        "colab": {
          "base_uri": "https://localhost:8080/",
          "height": 312
        },
        "outputId": "a860c3d0-bfbb-4f72-9e8c-461d77e8cbd6"
      },
      "source": [
        "ax = plt.axes()\n",
        "visualizer = ROCAUC(dt_model, \n",
        "                    ax = ax,\n",
        "                    per_class = True,\n",
        "                    classes = ['Not Delayed', 'Delayed'])\n",
        "\n",
        "visualizer.fit(X_train, y_train)         \n",
        "visualizer.score(X_test, y_test) \n",
        "ax.set_title('Decision Tree Model')\n",
        "ax.set_xlabel('False Positive Rate')\n",
        "ax.set_ylabel('True Positive Rate')\n",
        "ax.legend()"
      ],
      "execution_count": null,
      "outputs": [
        {
          "output_type": "execute_result",
          "data": {
            "text/plain": [
              "<matplotlib.legend.Legend at 0x7f1705a21d30>"
            ]
          },
          "metadata": {
            "tags": []
          },
          "execution_count": 43
        },
        {
          "output_type": "display_data",
          "data": {
            "image/png": "[encoded data removed]",
            "text/plain": [
              "<Figure size 432x288 with 1 Axes>"
            ]
          },
          "metadata": {
            "tags": [],
            "needs_background": "light"
          }
        }
      ]
    },
    {
      "cell_type": "markdown",
      "metadata": {
        "id": "qH0Bd79_xxYi",
        "colab_type": "text"
      },
      "source": [
        "## Random Forest Classifier"
      ]
    },
    {
      "cell_type": "code",
      "metadata": {
        "id": "oynchWARwM-V",
        "colab_type": "code",
        "colab": {}
      },
      "source": [
        "clf_rf=RandomForestClassifier(n_estimators=10)\n",
        "rf_model = clf_rf.fit(X_train,y_train)\n",
        "y_pred=rf_model.predict(X_test)"
      ],
      "execution_count": null,
      "outputs": []
    },
    {
      "cell_type": "code",
      "metadata": {
        "id": "7IIU-t7awM7t",
        "colab_type": "code",
        "colab": {
          "base_uri": "https://localhost:8080/",
          "height": 35
        },
        "outputId": "329a19d0-5d15-46ed-c227-f4db90956ae8"
      },
      "source": [
        "y_pred = rf_model.predict(X_test)\n",
        "print(metrics.classification_report(y_test,y_pred))"
      ],
      "execution_count": null,
      "outputs": [
        {
          "output_type": "stream",
          "text": [
            "Accuracy: 0.9080436211490484\n"
          ],
          "name": "stdout"
        }
      ]
    },
    {
      "cell_type": "code",
      "metadata": {
        "id": "E097LSMDwM5Q",
        "colab_type": "code",
        "colab": {
          "base_uri": "https://localhost:8080/",
          "height": 312
        },
        "outputId": "3d33cbc0-dc4d-49fc-f5bc-0389339725a8"
      },
      "source": [
        "ax = plt.axes()\n",
        "visualizer = ROCAUC(rf_model, \n",
        "                    ax = ax,\n",
        "                    classes = ['Not Delayed', 'Delayed'])\n",
        "\n",
        "visualizer.fit(X_train, y_train)         \n",
        "visualizer.score(X_test, y_test) \n",
        "ax.set_title('Random Forest Model')\n",
        "ax.set_xlabel('False Positive Rate')\n",
        "ax.set_ylabel('True Positive Rate')\n",
        "ax.legend()"
      ],
      "execution_count": null,
      "outputs": [
        {
          "output_type": "execute_result",
          "data": {
            "text/plain": [
              "<matplotlib.legend.Legend at 0x7f17015a4b38>"
            ]
          },
          "metadata": {
            "tags": []
          },
          "execution_count": 46
        },
        {
          "output_type": "display_data",
          "data": {
            "image/png": "[encoded data removed]",
            "text/plain": [
              "<Figure size 432x288 with 1 Axes>"
            ]
          },
          "metadata": {
            "tags": [],
            "needs_background": "light"
          }
        }
      ]
    },
    {
      "cell_type": "markdown",
      "metadata": {
        "id": "-5pOKdG3x9Qa",
        "colab_type": "text"
      },
      "source": [
        "## Ada Boost Classifier"
      ]
    },
    {
      "cell_type": "code",
      "metadata": {
        "id": "Kijdr_Z-x8fO",
        "colab_type": "code",
        "colab": {}
      },
      "source": [
        "Adaboost = AdaBoostClassifier()\n",
        "model_adaboost = Adaboost.fit(X_train, y_train)"
      ],
      "execution_count": null,
      "outputs": []
    },
    {
      "cell_type": "code",
      "metadata": {
        "id": "YLVEXuC3x8dT",
        "colab_type": "code",
        "colab": {
          "base_uri": "https://localhost:8080/",
          "height": 182
        },
        "outputId": "753391b2-edb1-48db-ed23-a9e6900bc0f6"
      },
      "source": [
        "y_pred = model_adaboost.predict(X_test)\n",
        "print(metrics.classification_report(y_test,y_pred))"
      ],
      "execution_count": null,
      "outputs": [
        {
          "output_type": "stream",
          "text": [
            "              precision    recall  f1-score   support\n",
            "\n",
            "         0.0       0.94      0.96      0.95    230337\n",
            "         1.0       0.80      0.74      0.77     52645\n",
            "\n",
            "    accuracy                           0.92    282982\n",
            "   macro avg       0.87      0.85      0.86    282982\n",
            "weighted avg       0.92      0.92      0.92    282982\n",
            "\n"
          ],
          "name": "stdout"
        }
      ]
    },
    {
      "cell_type": "code",
      "metadata": {
        "id": "IbMvDlgXx8bC",
        "colab_type": "code",
        "colab": {
          "base_uri": "https://localhost:8080/",
          "height": 312
        },
        "outputId": "92b6bb83-2781-4d3d-cfbd-05411d662ff9"
      },
      "source": [
        "ax = plt.axes()\n",
        "visualizer = ROCAUC(model_adaboost, \n",
        "                    ax = ax,\n",
        "                    classes = ['Not Delayed', 'Delayed'])\n",
        "\n",
        "visualizer.fit(X_train, y_train)         \n",
        "visualizer.score(X_test, y_test) \n",
        "ax.set_title('Adaboost Model')\n",
        "ax.set_xlabel('False Positive Rate')\n",
        "ax.set_ylabel('True Positive Rate')\n",
        "ax.legend()"
      ],
      "execution_count": null,
      "outputs": [
        {
          "output_type": "execute_result",
          "data": {
            "text/plain": [
              "<matplotlib.legend.Legend at 0x7f1701527208>"
            ]
          },
          "metadata": {
            "tags": []
          },
          "execution_count": 49
        },
        {
          "output_type": "display_data",
          "data": {
            "image/png": "[encoded data removed]",
            "text/plain": [
              "<Figure size 432x288 with 1 Axes>"
            ]
          },
          "metadata": {
            "tags": [],
            "needs_background": "light"
          }
        }
      ]
    },
    {
      "cell_type": "markdown",
      "metadata": {
        "id": "X7EFWfYmyHvD",
        "colab_type": "text"
      },
      "source": [
        "# Neural network model with Keras"
      ]
    },
    {
      "cell_type": "markdown",
      "metadata": {
        "id": "lI1UA7aY1lbU",
        "colab_type": "text"
      },
      "source": [
        "Building a very simple neural network since the more complicated ones did not improve our estimates:"
      ]
    },
    {
      "cell_type": "code",
      "metadata": {
        "id": "LwHB3qagx8XP",
        "colab_type": "code",
        "colab": {
          "base_uri": "https://localhost:8080/",
          "height": 274
        },
        "outputId": "97d160c0-8c57-489c-85b7-dadf8940684c"
      },
      "source": [
        "X_train, X_test, y_train, y_test = train_test_split(X, y, test_size=0.5)\n",
        "\n",
        "y_train = to_categorical(y_train)\n",
        "y_test = to_categorical(y_test)\n",
        "\n",
        "\n",
        "nn_model_s = Sequential()\n",
        "nn_model_s.add(Dense(64, input_dim= X_train.shape[1], activation= 'relu'))\n",
        "nn_model_s.add(Dense(8, input_dim= X_train.shape[1], activation= 'relu'))\n",
        "nn_model_s.add(Dense(2, activation= 'softmax'))\n",
        "\n",
        "nn_model_s.compile(loss= 'binary_crossentropy', \n",
        "              #optimizer= opt, \n",
        "              metrics= ['accuracy'])\n",
        "nn_model_s.summary()\n"
      ],
      "execution_count": null,
      "outputs": [
        {
          "output_type": "stream",
          "text": [
            "Model: \"sequential_2\"\n",
            "_________________________________________________________________\n",
            "Layer (type)                 Output Shape              Param #   \n",
            "=================================================================\n",
            "dense_6 (Dense)              (None, 64)                49216     \n",
            "_________________________________________________________________\n",
            "dense_7 (Dense)              (None, 8)                 520       \n",
            "_________________________________________________________________\n",
            "dense_8 (Dense)              (None, 2)                 18        \n",
            "=================================================================\n",
            "Total params: 49,754\n",
            "Trainable params: 49,754\n",
            "Non-trainable params: 0\n",
            "_________________________________________________________________\n"
          ],
          "name": "stdout"
        }
      ]
    },
    {
      "cell_type": "code",
      "metadata": {
        "id": "1RDuqFV3ShEx",
        "colab_type": "code",
        "colab": {
          "base_uri": "https://localhost:8080/",
          "height": 752
        },
        "outputId": "d7f8c63b-01af-4660-ec03-48c14372e673"
      },
      "source": [
        "history_s = nn_model_s.fit(X_train, y_train,validation_split = 0.5, epochs= 20, batch_size=128)"
      ],
      "execution_count": null,
      "outputs": [
        {
          "output_type": "stream",
          "text": [
            "Epoch 1/20\n",
            "1106/1106 [==============================] - 6s 6ms/step - loss: 0.2816 - accuracy: 0.9044 - val_loss: 0.2559 - val_accuracy: 0.9180\n",
            "Epoch 2/20\n",
            "1106/1106 [==============================] - 5s 5ms/step - loss: 0.2579 - accuracy: 0.9165 - val_loss: 0.2548 - val_accuracy: 0.9180\n",
            "Epoch 3/20\n",
            "1106/1106 [==============================] - 5s 5ms/step - loss: 0.2555 - accuracy: 0.9163 - val_loss: 0.2562 - val_accuracy: 0.9179\n",
            "Epoch 4/20\n",
            "1106/1106 [==============================] - 5s 4ms/step - loss: 0.2531 - accuracy: 0.9164 - val_loss: 0.2536 - val_accuracy: 0.9179\n",
            "Epoch 5/20\n",
            "1106/1106 [==============================] - 5s 4ms/step - loss: 0.2506 - accuracy: 0.9165 - val_loss: 0.2538 - val_accuracy: 0.9179\n",
            "Epoch 6/20\n",
            "1106/1106 [==============================] - 5s 4ms/step - loss: 0.2481 - accuracy: 0.9166 - val_loss: 0.2488 - val_accuracy: 0.9178\n",
            "Epoch 7/20\n",
            "1106/1106 [==============================] - 5s 4ms/step - loss: 0.2457 - accuracy: 0.9167 - val_loss: 0.2566 - val_accuracy: 0.9165\n",
            "Epoch 8/20\n",
            "1106/1106 [==============================] - 5s 4ms/step - loss: 0.2440 - accuracy: 0.9171 - val_loss: 0.2514 - val_accuracy: 0.9167\n",
            "Epoch 9/20\n",
            "1106/1106 [==============================] - 5s 4ms/step - loss: 0.2428 - accuracy: 0.9172 - val_loss: 0.2484 - val_accuracy: 0.9172\n",
            "Epoch 10/20\n",
            "1106/1106 [==============================] - 5s 4ms/step - loss: 0.2412 - accuracy: 0.9172 - val_loss: 0.2496 - val_accuracy: 0.9172\n",
            "Epoch 11/20\n",
            "1106/1106 [==============================] - 5s 4ms/step - loss: 0.2402 - accuracy: 0.9176 - val_loss: 0.2478 - val_accuracy: 0.9176\n",
            "Epoch 12/20\n",
            "1106/1106 [==============================] - 5s 4ms/step - loss: 0.2386 - accuracy: 0.9179 - val_loss: 0.2474 - val_accuracy: 0.9172\n",
            "Epoch 13/20\n",
            "1106/1106 [==============================] - 5s 5ms/step - loss: 0.2381 - accuracy: 0.9182 - val_loss: 0.2510 - val_accuracy: 0.9165\n",
            "Epoch 14/20\n",
            "1106/1106 [==============================] - 5s 4ms/step - loss: 0.2366 - accuracy: 0.9186 - val_loss: 0.2486 - val_accuracy: 0.9156\n",
            "Epoch 15/20\n",
            "1106/1106 [==============================] - 5s 4ms/step - loss: 0.2357 - accuracy: 0.9184 - val_loss: 0.2463 - val_accuracy: 0.9166\n",
            "Epoch 16/20\n",
            "1106/1106 [==============================] - 5s 4ms/step - loss: 0.2345 - accuracy: 0.9193 - val_loss: 0.2465 - val_accuracy: 0.9163\n",
            "Epoch 17/20\n",
            "1106/1106 [==============================] - 5s 4ms/step - loss: 0.2337 - accuracy: 0.9191 - val_loss: 0.2481 - val_accuracy: 0.9148\n",
            "Epoch 18/20\n",
            "1106/1106 [==============================] - 5s 4ms/step - loss: 0.2331 - accuracy: 0.9196 - val_loss: 0.2486 - val_accuracy: 0.9156\n",
            "Epoch 19/20\n",
            "1106/1106 [==============================] - 5s 4ms/step - loss: 0.2322 - accuracy: 0.9192 - val_loss: 0.2471 - val_accuracy: 0.9167\n",
            "Epoch 20/20\n",
            "1106/1106 [==============================] - 5s 4ms/step - loss: 0.2315 - accuracy: 0.9197 - val_loss: 0.2482 - val_accuracy: 0.9154\n"
          ],
          "name": "stdout"
        }
      ]
    },
    {
      "cell_type": "code",
      "metadata": {
        "id": "5JD50W79x8U9",
        "colab_type": "code",
        "colab": {
          "base_uri": "https://localhost:8080/",
          "height": 294
        },
        "outputId": "f530e7db-0180-4884-c8ff-1cf0a8ee44e7"
      },
      "source": [
        "f, (ax1, ax2) = plt.subplots(2,1,sharex= True)\n",
        "ax1.set_title('Loss')\n",
        "ax1.plot(history_s.history['loss'], label='train')\n",
        "ax1.plot(history_s.history['val_loss'], label='validation')\n",
        "ax1.legend()\n",
        "# plot accuracy during training\n",
        "ax2.set_title('Accuracy')\n",
        "ax2.set_xlabel('Epoch #')\n",
        "ax2.plot(history_s.history['accuracy'], label='train')\n",
        "ax2.plot(history_s.history['val_accuracy'], label='validation')\n",
        "ax2.legend()\n",
        "plt.show()"
      ],
      "execution_count": null,
      "outputs": [
        {
          "output_type": "display_data",
          "data": {
            "image/png": "[encoded data removed]",
            "text/plain": [
              "<Figure size 432x288 with 2 Axes>"
            ]
          },
          "metadata": {
            "tags": [],
            "needs_background": "light"
          }
        }
      ]
    },
    {
      "cell_type": "code",
      "metadata": {
        "id": "m_T6_xDy6FrR",
        "colab_type": "code",
        "colab": {
          "base_uri": "https://localhost:8080/",
          "height": 35
        },
        "outputId": "5391fef1-2215-4e3a-8740-aa292ad7e5a6"
      },
      "source": [
        "_, train_acc = nn_model_s.evaluate(X_train, y_train, verbose=0)\n",
        "_, test_acc = nn_model_s.evaluate(X_test, y_test, verbose=0)\n",
        "print('Train: %.3f, Test: %.3f' % (train_acc, test_acc))"
      ],
      "execution_count": null,
      "outputs": [
        {
          "output_type": "stream",
          "text": [
            "Train: 0.918, Test: 0.913\n"
          ],
          "name": "stdout"
        }
      ]
    },
    {
      "cell_type": "markdown",
      "metadata": {
        "id": "bIdJmoz56JqM",
        "colab_type": "text"
      },
      "source": [
        "Overfitting starts almost immediately however does not make the prediction accuracy much worse on the validation dataset. 2 epochs are recommended for the model to train\n"
      ]
    },
    {
      "cell_type": "code",
      "metadata": {
        "id": "dwQrXkKz7HZ2",
        "colab_type": "code",
        "colab": {
          "base_uri": "https://localhost:8080/",
          "height": 201
        },
        "outputId": "fa6de4ad-54b0-4eaa-a83e-4f1e4b40cd25"
      },
      "source": [
        "y_pred = nn_model_s.predict(X_test)\n",
        "y_pred  = (y_pred > 0.5)\n",
        "print(metrics.classification_report(y_test,y_pred))"
      ],
      "execution_count": null,
      "outputs": [
        {
          "output_type": "stream",
          "text": [
            "              precision    recall  f1-score   support\n",
            "\n",
            "           0       0.94      0.96      0.95    230305\n",
            "           1       0.79      0.72      0.76     52677\n",
            "\n",
            "   micro avg       0.91      0.91      0.91    282982\n",
            "   macro avg       0.86      0.84      0.85    282982\n",
            "weighted avg       0.91      0.91      0.91    282982\n",
            " samples avg       0.91      0.91      0.91    282982\n",
            "\n"
          ],
          "name": "stdout"
        }
      ]
    },
    {
      "cell_type": "code",
      "metadata": {
        "id": "B91sPPLR6FCB",
        "colab_type": "code",
        "colab": {}
      },
      "source": [
        ""
      ],
      "execution_count": null,
      "outputs": []
    },
    {
      "cell_type": "code",
      "metadata": {
        "id": "NGISPDcm8Jt6",
        "colab_type": "code",
        "colab": {}
      },
      "source": [
        ""
      ],
      "execution_count": null,
      "outputs": []
    },
    {
      "cell_type": "code",
      "metadata": {
        "id": "TNN0AOyB8JcT",
        "colab_type": "code",
        "colab": {}
      },
      "source": [
        ""
      ],
      "execution_count": null,
      "outputs": []
    },
    {
      "cell_type": "code",
      "metadata": {
        "id": "TKFFMkVx3eOp",
        "colab_type": "code",
        "colab": {}
      },
      "source": [
        "from sklearn.model_selection import train_test_split\n",
        "X_train, X_test, y_train, y_test = train_test_split(X, y, test_size=0.5) # 50% training and 50% test"
      ],
      "execution_count": null,
      "outputs": []
    },
    {
      "cell_type": "code",
      "metadata": {
        "id": "b47Jj9lQ3eKm",
        "colab_type": "code",
        "colab": {
          "base_uri": "https://localhost:8080/",
          "height": 134
        },
        "outputId": "e978107d-57cb-4adc-f613-1e75c6b28cb9"
      },
      "source": [
        "from sklearn.linear_model import LogisticRegression\n",
        "from sklearn.model_selection import StratifiedKFold, cross_val_score, cross_val_predict # Cross Validation\n",
        "\n",
        "# Before: takes 4.42 min (~ 5 min) to output this code, maybe due to large data - Celine\n",
        "# After: takes 2.22 min to output code now - Celine\n",
        "lr_model = LogisticRegression(max_iter=1000, tol = 0.001,  verbose=1)\n",
        "lr_model.fit(X_train, y_train)"
      ],
      "execution_count": null,
      "outputs": [
        {
          "output_type": "stream",
          "text": [
            "[Parallel(n_jobs=1)]: Using backend SequentialBackend with 1 concurrent workers.\n",
            "[Parallel(n_jobs=1)]: Done   1 out of   1 | elapsed:  1.4min finished\n"
          ],
          "name": "stderr"
        },
        {
          "output_type": "execute_result",
          "data": {
            "text/plain": [
              "LogisticRegression(C=1.0, class_weight=None, dual=False, fit_intercept=True,\n",
              "                   intercept_scaling=1, l1_ratio=None, max_iter=1000,\n",
              "                   multi_class='auto', n_jobs=None, penalty='l2',\n",
              "                   random_state=None, solver='lbfgs', tol=0.001, verbose=1,\n",
              "                   warm_start=False)"
            ]
          },
          "metadata": {
            "tags": []
          },
          "execution_count": 32
        }
      ]
    },
    {
      "cell_type": "code",
      "metadata": {
        "id": "jM9jbBMe3tGC",
        "colab_type": "code",
        "colab": {}
      },
      "source": [
        "predictions = lr_model.predict(X_test)"
      ],
      "execution_count": null,
      "outputs": []
    },
    {
      "cell_type": "code",
      "metadata": {
        "id": "xnQwkdwe4cS4",
        "colab_type": "code",
        "colab": {
          "base_uri": "https://localhost:8080/",
          "height": 34
        },
        "outputId": "baf5e308-6ba2-499a-9b37-25ab9d8f3b16"
      },
      "source": [
        "# Use score method to get accuracy of model\n",
        "score = lr_model.score(X_test, y_test)\n",
        "print(score)"
      ],
      "execution_count": null,
      "outputs": [
        {
          "output_type": "stream",
          "text": [
            "0.827017266115866\n"
          ],
          "name": "stdout"
        }
      ]
    },
    {
      "cell_type": "code",
      "metadata": {
        "id": "v9TqHqOy4guQ",
        "colab_type": "code",
        "colab": {
          "base_uri": "https://localhost:8080/",
          "height": 520
        },
        "outputId": "80c73cc7-31b1-4fd3-e34e-34689fdb56dc"
      },
      "source": [
        "from sklearn import metrics\n",
        "cm = metrics.confusion_matrix(y_test, pred)\n",
        "\n",
        "plt.figure(figsize=(9,9))\n",
        "sns.heatmap(cm, annot=True, fmt=\".3f\", linewidths=.5, square = True, cmap = 'Blues_r');\n",
        "plt.ylabel('Actual label');\n",
        "plt.xlabel('Predicted label');\n",
        "all_sample_title = 'Accuracy Score: {0}'.format(score)\n",
        "plt.title(all_sample_title, size = 15);"
      ],
      "execution_count": null,
      "outputs": [
        {
          "output_type": "display_data",
          "data": {
            "image/png": "[encoded data removed]",
            "text/plain": [
              "<Figure size 648x648 with 2 Axes>"
            ]
          },
          "metadata": {
            "tags": [],
            "needs_background": "light"
          }
        }
      ]
    },
    {
      "cell_type": "code",
      "metadata": {
        "id": "ecLckXNO64YJ",
        "colab_type": "code",
        "colab": {
          "base_uri": "https://localhost:8080/",
          "height": 437
        },
        "outputId": "98204f8f-b1b6-4632-88bf-bd4ed363e37f"
      },
      "source": [
        "from sklearn import model_selection\n",
        "from sklearn.model_selection import StratifiedKFold\n",
        "\n",
        "skfold = StratifiedKFold(n_splits=3)\n",
        "model_skfold = LogisticRegression()\n",
        "results_skfold = model_selection.cross_val_score(model_skfold, X, y, cv=skfold)\n",
        "print(\"Accuracy: %.2f%%\" % (results_skfold.mean()*100.0))"
      ],
      "execution_count": null,
      "outputs": [
        {
          "output_type": "stream",
          "text": [
            "/usr/local/lib/python3.6/dist-packages/sklearn/linear_model/_logistic.py:940: ConvergenceWarning: lbfgs failed to converge (status=1):\n",
            "STOP: TOTAL NO. of ITERATIONS REACHED LIMIT.\n",
            "\n",
            "Increase the number of iterations (max_iter) or scale the data as shown in:\n",
            "    https://scikit-learn.org/stable/modules/preprocessing.html\n",
            "Please also refer to the documentation for alternative solver options:\n",
            "    https://scikit-learn.org/stable/modules/linear_model.html#logistic-regression\n",
            "  extra_warning_msg=_LOGISTIC_SOLVER_CONVERGENCE_MSG)\n",
            "/usr/local/lib/python3.6/dist-packages/sklearn/linear_model/_logistic.py:940: ConvergenceWarning: lbfgs failed to converge (status=1):\n",
            "STOP: TOTAL NO. of ITERATIONS REACHED LIMIT.\n",
            "\n",
            "Increase the number of iterations (max_iter) or scale the data as shown in:\n",
            "    https://scikit-learn.org/stable/modules/preprocessing.html\n",
            "Please also refer to the documentation for alternative solver options:\n",
            "    https://scikit-learn.org/stable/modules/linear_model.html#logistic-regression\n",
            "  extra_warning_msg=_LOGISTIC_SOLVER_CONVERGENCE_MSG)\n",
            "/usr/local/lib/python3.6/dist-packages/sklearn/linear_model/_logistic.py:940: ConvergenceWarning: lbfgs failed to converge (status=1):\n",
            "STOP: TOTAL NO. of ITERATIONS REACHED LIMIT.\n",
            "\n",
            "Increase the number of iterations (max_iter) or scale the data as shown in:\n",
            "    https://scikit-learn.org/stable/modules/preprocessing.html\n",
            "Please also refer to the documentation for alternative solver options:\n",
            "    https://scikit-learn.org/stable/modules/linear_model.html#logistic-regression\n",
            "  extra_warning_msg=_LOGISTIC_SOLVER_CONVERGENCE_MSG)\n"
          ],
          "name": "stderr"
        },
        {
          "output_type": "stream",
          "text": [
            "Accuracy: 82.52%\n"
          ],
          "name": "stdout"
        }
      ]
    },
    {
      "cell_type": "code",
      "metadata": {
        "id": "0nt0_x_oEsvY",
        "colab_type": "code",
        "colab": {
          "base_uri": "https://localhost:8080/",
          "height": 1000
        },
        "outputId": "daccd0fe-b840-4364-ad9b-2471a96062c3"
      },
      "source": [
        "from sklearn.model_selection import ShuffleSplit\n",
        "\n",
        "kfold2 = model_selection.ShuffleSplit(n_splits=10, test_size=0.30, random_state=100)\n",
        "model_shufflecv = LogisticRegression()\n",
        "results_4 = model_selection.cross_val_score(model_shufflecv, X, y, cv=kfold2)\n",
        "print(\"Accuracy: %.2f%% (%.2f%%)\" % (results_4.mean()*100.0, results_4.std()*100.0))"
      ],
      "execution_count": null,
      "outputs": [
        {
          "output_type": "stream",
          "text": [
            "/usr/local/lib/python3.6/dist-packages/sklearn/linear_model/_logistic.py:940: ConvergenceWarning: lbfgs failed to converge (status=1):\n",
            "STOP: TOTAL NO. of ITERATIONS REACHED LIMIT.\n",
            "\n",
            "Increase the number of iterations (max_iter) or scale the data as shown in:\n",
            "    https://scikit-learn.org/stable/modules/preprocessing.html\n",
            "Please also refer to the documentation for alternative solver options:\n",
            "    https://scikit-learn.org/stable/modules/linear_model.html#logistic-regression\n",
            "  extra_warning_msg=_LOGISTIC_SOLVER_CONVERGENCE_MSG)\n",
            "/usr/local/lib/python3.6/dist-packages/sklearn/linear_model/_logistic.py:940: ConvergenceWarning: lbfgs failed to converge (status=1):\n",
            "STOP: TOTAL NO. of ITERATIONS REACHED LIMIT.\n",
            "\n",
            "Increase the number of iterations (max_iter) or scale the data as shown in:\n",
            "    https://scikit-learn.org/stable/modules/preprocessing.html\n",
            "Please also refer to the documentation for alternative solver options:\n",
            "    https://scikit-learn.org/stable/modules/linear_model.html#logistic-regression\n",
            "  extra_warning_msg=_LOGISTIC_SOLVER_CONVERGENCE_MSG)\n",
            "/usr/local/lib/python3.6/dist-packages/sklearn/linear_model/_logistic.py:940: ConvergenceWarning: lbfgs failed to converge (status=1):\n",
            "STOP: TOTAL NO. of ITERATIONS REACHED LIMIT.\n",
            "\n",
            "Increase the number of iterations (max_iter) or scale the data as shown in:\n",
            "    https://scikit-learn.org/stable/modules/preprocessing.html\n",
            "Please also refer to the documentation for alternative solver options:\n",
            "    https://scikit-learn.org/stable/modules/linear_model.html#logistic-regression\n",
            "  extra_warning_msg=_LOGISTIC_SOLVER_CONVERGENCE_MSG)\n",
            "/usr/local/lib/python3.6/dist-packages/sklearn/linear_model/_logistic.py:940: ConvergenceWarning: lbfgs failed to converge (status=1):\n",
            "STOP: TOTAL NO. of ITERATIONS REACHED LIMIT.\n",
            "\n",
            "Increase the number of iterations (max_iter) or scale the data as shown in:\n",
            "    https://scikit-learn.org/stable/modules/preprocessing.html\n",
            "Please also refer to the documentation for alternative solver options:\n",
            "    https://scikit-learn.org/stable/modules/linear_model.html#logistic-regression\n",
            "  extra_warning_msg=_LOGISTIC_SOLVER_CONVERGENCE_MSG)\n",
            "/usr/local/lib/python3.6/dist-packages/sklearn/linear_model/_logistic.py:940: ConvergenceWarning: lbfgs failed to converge (status=1):\n",
            "STOP: TOTAL NO. of ITERATIONS REACHED LIMIT.\n",
            "\n",
            "Increase the number of iterations (max_iter) or scale the data as shown in:\n",
            "    https://scikit-learn.org/stable/modules/preprocessing.html\n",
            "Please also refer to the documentation for alternative solver options:\n",
            "    https://scikit-learn.org/stable/modules/linear_model.html#logistic-regression\n",
            "  extra_warning_msg=_LOGISTIC_SOLVER_CONVERGENCE_MSG)\n",
            "/usr/local/lib/python3.6/dist-packages/sklearn/linear_model/_logistic.py:940: ConvergenceWarning: lbfgs failed to converge (status=1):\n",
            "STOP: TOTAL NO. of ITERATIONS REACHED LIMIT.\n",
            "\n",
            "Increase the number of iterations (max_iter) or scale the data as shown in:\n",
            "    https://scikit-learn.org/stable/modules/preprocessing.html\n",
            "Please also refer to the documentation for alternative solver options:\n",
            "    https://scikit-learn.org/stable/modules/linear_model.html#logistic-regression\n",
            "  extra_warning_msg=_LOGISTIC_SOLVER_CONVERGENCE_MSG)\n",
            "/usr/local/lib/python3.6/dist-packages/sklearn/linear_model/_logistic.py:940: ConvergenceWarning: lbfgs failed to converge (status=1):\n",
            "STOP: TOTAL NO. of ITERATIONS REACHED LIMIT.\n",
            "\n",
            "Increase the number of iterations (max_iter) or scale the data as shown in:\n",
            "    https://scikit-learn.org/stable/modules/preprocessing.html\n",
            "Please also refer to the documentation for alternative solver options:\n",
            "    https://scikit-learn.org/stable/modules/linear_model.html#logistic-regression\n",
            "  extra_warning_msg=_LOGISTIC_SOLVER_CONVERGENCE_MSG)\n",
            "/usr/local/lib/python3.6/dist-packages/sklearn/linear_model/_logistic.py:940: ConvergenceWarning: lbfgs failed to converge (status=1):\n",
            "STOP: TOTAL NO. of ITERATIONS REACHED LIMIT.\n",
            "\n",
            "Increase the number of iterations (max_iter) or scale the data as shown in:\n",
            "    https://scikit-learn.org/stable/modules/preprocessing.html\n",
            "Please also refer to the documentation for alternative solver options:\n",
            "    https://scikit-learn.org/stable/modules/linear_model.html#logistic-regression\n",
            "  extra_warning_msg=_LOGISTIC_SOLVER_CONVERGENCE_MSG)\n"
          ],
          "name": "stderr"
        },
        {
          "output_type": "stream",
          "text": [
            "Accuracy: 82.60% (0.06%)\n"
          ],
          "name": "stdout"
        }
      ]
    },
    {
      "cell_type": "code",
      "metadata": {
        "id": "HH4D6HLfF-hq",
        "colab_type": "code",
        "colab": {
          "base_uri": "https://localhost:8080/",
          "height": 34
        },
        "outputId": "41305d32-7804-4da8-880b-0b30d85ec0eb"
      },
      "source": [
        "df19['DEP_DEL15'].mean()"
      ],
      "execution_count": null,
      "outputs": [
        {
          "output_type": "execute_result",
          "data": {
            "text/plain": [
              "0.17369510020973103"
            ]
          },
          "metadata": {
            "tags": []
          },
          "execution_count": 39
        }
      ]
    },
    {
      "cell_type": "code",
      "metadata": {
        "id": "4PM6m-SmJL1Z",
        "colab_type": "code",
        "colab": {}
      },
      "source": [
        ""
      ],
      "execution_count": null,
      "outputs": []
    }
  ]
}